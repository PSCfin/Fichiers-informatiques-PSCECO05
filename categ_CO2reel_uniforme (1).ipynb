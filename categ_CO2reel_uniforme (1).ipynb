{
 "cells": [
  {
   "cell_type": "markdown",
   "metadata": {},
   "source": [
    "# Catégorisation de véhicules uniforme"
   ]
  },
  {
   "cell_type": "markdown",
   "metadata": {},
   "source": [
    "On catégorise les véhicules en fonction de leur emission de CO2 réel."
   ]
  },
  {
   "cell_type": "code",
   "execution_count": 2,
   "metadata": {},
   "outputs": [],
   "source": [
    "import numpy as np\n",
    "np.float=float\n",
    "import pandas as pd\n",
    "from math import sqrt\n",
    "import matplotlib.pyplot as plt\n",
    "from sklearn.model_selection import train_test_split\n",
    "from sklearn.linear_model import LinearRegression\n",
    "from sklearn.metrics import mean_squared_error, r2_score\n",
    "from sklearn import preprocessing\n",
    "import seaborn as sns\n",
    "from sklearn.neighbors import KNeighborsRegressor\n",
    "np.bool = bool\n",
    "from sklearn.linear_model import Lasso"
   ]
  },
  {
   "cell_type": "markdown",
   "metadata": {},
   "source": [
    "### 1. Travail d'Antoine sur les données (le meme que dans le fichier ML)"
   ]
  },
  {
   "cell_type": "code",
   "execution_count": null,
   "metadata": {},
   "outputs": [],
   "source": [
    "data = pd.read_excel('data_BLP_caracteristics_CO2_corr.xlsx')\n",
    "data2=pd.read_excel('ventes 2021_IPP.xlsx')\n",
    "data.rename(columns={'type_cnit': 'Type'}, inplace=True) #renome le cnit\n",
    "new_data = pd.merge(data, data2, on='Type', how='inner') #fusionne les 2 par le \n"
   ]
  },
  {
   "cell_type": "code",
   "execution_count": null,
   "metadata": {},
   "outputs": [],
   "source": [
    "\n",
    "datap=new_data.loc[new_data['N']>20] # on prend N ou bien volume ? \n",
    "datap = datap[['mean_cylindree','mean_co2_theorique','mean_ptr', 'mean_charge_utile','mean_puis_kw', 'mean_co2_reel', 'energ', 'mean_nb_decibels','Carrosserie', 'mean_ptac', 'VOLUME', 'N', 'Prix du véhicule']]\n",
    "\n",
    "datap.dropna(inplace=True)"
   ]
  },
  {
   "cell_type": "code",
   "execution_count": null,
   "metadata": {},
   "outputs": [
    {
     "data": {
      "text/plain": [
       "Index(['mean_cylindree', 'mean_co2_theorique', 'mean_ptr', 'mean_charge_utile',\n",
       "       'mean_puis_kw', 'mean_co2_reel', 'energ', 'mean_nb_decibels',\n",
       "       'Carrosserie', 'mean_ptac', 'VOLUME', 'N', 'Prix du véhicule'],\n",
       "      dtype='object')"
      ]
     },
     "execution_count": 4,
     "metadata": {},
     "output_type": "execute_result"
    }
   ],
   "source": [
    "datap.columns"
   ]
  },
  {
   "cell_type": "code",
   "execution_count": null,
   "metadata": {},
   "outputs": [
    {
     "name": "stderr",
     "output_type": "stream",
     "text": [
      "/tmp/ipykernel_344/1110656477.py:25: FutureWarning: In a future version, `df.iloc[:, i] = newvals` will attempt to set the values inplace instead of always setting a new array. To retain the old behavior, use either `df[df.columns[i]] = newvals` or, if columns are non-unique, `df.isetitem(i, newvals)`\n",
      "  dataToNormalize.loc[:,col]=scaler.fit_transform(dataToNormalize.loc[:,col].values.reshape(-1,1))\n"
     ]
    }
   ],
   "source": [
    "y=datap['mean_co2_reel']\n",
    "dataOG=new_data['mean_co2_theorique']\n",
    "dataEtat=datap['mean_co2_theorique']\n",
    "\n",
    "\n",
    "for col in list(datap['energ'].unique()): \n",
    "    datap[col]=(datap['energ']==col)*1\n",
    "\n",
    "for col in list(datap['Carrosserie'].unique()):\n",
    "    datap[col]=(datap['Carrosserie']==col)*1\n",
    "\n",
    "datap_train = datap.loc[-datap['energ'].isin(['EL'])] # sans EL\n",
    "datap_train=datap_train.drop('energ', axis=1)\n",
    "datap_train=datap_train.drop('Carrosserie', axis=1)\n",
    "datap=datap.drop('energ', axis=1)\n",
    "datap=datap.drop('Carrosserie', axis=1)\n",
    "y_sel = datap_train['mean_co2_reel']\n",
    "datap_train=datap_train.drop(['mean_co2_reel', 'N', 'VOLUME', 'Prix du véhicule'], axis=1)\n",
    "datas=datap.drop(['mean_co2_reel', 'N', 'VOLUME', 'Prix du véhicule'], axis=1)\n",
    "\n",
    "def normalization(dataToNormalize):\n",
    "    columns=list(dataToNormalize.columns) # liste colonnes\n",
    "    scaler=preprocessing.StandardScaler()\n",
    "    for col in columns:\n",
    "        dataToNormalize.loc[:,col]=scaler.fit_transform(dataToNormalize.loc[:,col].values.reshape(-1,1))\n",
    "\n",
    "        \n",
    "normalization(datap_train)\n",
    "normalization(datas)"
   ]
  },
  {
   "cell_type": "code",
   "execution_count": null,
   "metadata": {},
   "outputs": [
    {
     "data": {
      "text/plain": [
       "Index(['mean_cylindree', 'mean_co2_theorique', 'mean_ptr', 'mean_charge_utile',\n",
       "       'mean_puis_kw', 'mean_nb_decibels', 'mean_ptac', 'ES', 'GO', 'FE', 'EE',\n",
       "       'EH', 'GH', 'EL', 'GN', 'GL', 'EG', 'FH', 'EN', 'BERLINE',\n",
       "       'TS TERRAINS/CHEMINS', 'BREAK', 'MINIBUS', 'MONOSPACE COMPACT',\n",
       "       'COMBISPACE', 'COUPE', 'MONOSPACE', 'MINISPACE', 'CABRIOLET'],\n",
       "      dtype='object')"
      ]
     },
     "execution_count": 6,
     "metadata": {},
     "output_type": "execute_result"
    }
   ],
   "source": [
    "datap_train.columns"
   ]
  },
  {
   "cell_type": "code",
   "execution_count": null,
   "metadata": {},
   "outputs": [
    {
     "data": {
      "text/plain": [
       "Index(['mean_cylindree', 'mean_co2_theorique', 'mean_ptr', 'mean_charge_utile',\n",
       "       'mean_puis_kw', 'mean_co2_reel', 'mean_nb_decibels', 'mean_ptac',\n",
       "       'VOLUME', 'N', 'Prix du véhicule', 'ES', 'GO', 'FE', 'EE', 'EH', 'GH',\n",
       "       'EL', 'GN', 'GL', 'EG', 'FH', 'EN', 'BERLINE', 'TS TERRAINS/CHEMINS',\n",
       "       'BREAK', 'MINIBUS', 'MONOSPACE COMPACT', 'COMBISPACE', 'COUPE',\n",
       "       'MONOSPACE', 'MINISPACE', 'CABRIOLET'],\n",
       "      dtype='object')"
      ]
     },
     "execution_count": 7,
     "metadata": {},
     "output_type": "execute_result"
    }
   ],
   "source": [
    "datap.columns"
   ]
  },
  {
   "cell_type": "code",
   "execution_count": null,
   "metadata": {},
   "outputs": [
    {
     "data": {
      "text/html": [
       "<div>\n",
       "<style scoped>\n",
       "    .dataframe tbody tr th:only-of-type {\n",
       "        vertical-align: middle;\n",
       "    }\n",
       "\n",
       "    .dataframe tbody tr th {\n",
       "        vertical-align: top;\n",
       "    }\n",
       "\n",
       "    .dataframe thead th {\n",
       "        text-align: right;\n",
       "    }\n",
       "</style>\n",
       "<table border=\"1\" class=\"dataframe\">\n",
       "  <thead>\n",
       "    <tr style=\"text-align: right;\">\n",
       "      <th></th>\n",
       "      <th>mean_cylindree</th>\n",
       "      <th>mean_co2_theorique</th>\n",
       "      <th>mean_ptr</th>\n",
       "      <th>mean_charge_utile</th>\n",
       "      <th>mean_puis_kw</th>\n",
       "      <th>mean_co2_reel</th>\n",
       "      <th>mean_nb_decibels</th>\n",
       "      <th>mean_ptac</th>\n",
       "      <th>VOLUME</th>\n",
       "      <th>N</th>\n",
       "      <th>...</th>\n",
       "      <th>BERLINE</th>\n",
       "      <th>TS TERRAINS/CHEMINS</th>\n",
       "      <th>BREAK</th>\n",
       "      <th>MINIBUS</th>\n",
       "      <th>MONOSPACE COMPACT</th>\n",
       "      <th>COMBISPACE</th>\n",
       "      <th>COUPE</th>\n",
       "      <th>MONOSPACE</th>\n",
       "      <th>MINISPACE</th>\n",
       "      <th>CABRIOLET</th>\n",
       "    </tr>\n",
       "  </thead>\n",
       "  <tbody>\n",
       "    <tr>\n",
       "      <th>0</th>\n",
       "      <td>4806.000000</td>\n",
       "      <td>286.000000</td>\n",
       "      <td>4700.0</td>\n",
       "      <td>530.000000</td>\n",
       "      <td>368.00000</td>\n",
       "      <td>358.498030</td>\n",
       "      <td>77.0</td>\n",
       "      <td>2500.0</td>\n",
       "      <td>1</td>\n",
       "      <td>203</td>\n",
       "      <td>...</td>\n",
       "      <td>1</td>\n",
       "      <td>0</td>\n",
       "      <td>0</td>\n",
       "      <td>0</td>\n",
       "      <td>0</td>\n",
       "      <td>0</td>\n",
       "      <td>0</td>\n",
       "      <td>0</td>\n",
       "      <td>0</td>\n",
       "      <td>0</td>\n",
       "    </tr>\n",
       "    <tr>\n",
       "      <th>1</th>\n",
       "      <td>1598.000000</td>\n",
       "      <td>147.000000</td>\n",
       "      <td>2895.0</td>\n",
       "      <td>455.628490</td>\n",
       "      <td>86.00000</td>\n",
       "      <td>181.021890</td>\n",
       "      <td>72.0</td>\n",
       "      <td>1645.0</td>\n",
       "      <td>1</td>\n",
       "      <td>6318</td>\n",
       "      <td>...</td>\n",
       "      <td>0</td>\n",
       "      <td>1</td>\n",
       "      <td>0</td>\n",
       "      <td>0</td>\n",
       "      <td>0</td>\n",
       "      <td>0</td>\n",
       "      <td>0</td>\n",
       "      <td>0</td>\n",
       "      <td>0</td>\n",
       "      <td>0</td>\n",
       "    </tr>\n",
       "    <tr>\n",
       "      <th>3</th>\n",
       "      <td>1582.000000</td>\n",
       "      <td>108.000000</td>\n",
       "      <td>3420.0</td>\n",
       "      <td>560.456938</td>\n",
       "      <td>81.00000</td>\n",
       "      <td>151.611933</td>\n",
       "      <td>77.0</td>\n",
       "      <td>1920.0</td>\n",
       "      <td>1</td>\n",
       "      <td>419</td>\n",
       "      <td>...</td>\n",
       "      <td>1</td>\n",
       "      <td>0</td>\n",
       "      <td>0</td>\n",
       "      <td>0</td>\n",
       "      <td>0</td>\n",
       "      <td>0</td>\n",
       "      <td>0</td>\n",
       "      <td>0</td>\n",
       "      <td>0</td>\n",
       "      <td>0</td>\n",
       "    </tr>\n",
       "    <tr>\n",
       "      <th>7</th>\n",
       "      <td>1560.000000</td>\n",
       "      <td>100.000000</td>\n",
       "      <td>3160.0</td>\n",
       "      <td>569.984985</td>\n",
       "      <td>88.00000</td>\n",
       "      <td>140.958233</td>\n",
       "      <td>72.0</td>\n",
       "      <td>1860.0</td>\n",
       "      <td>1</td>\n",
       "      <td>3996</td>\n",
       "      <td>...</td>\n",
       "      <td>1</td>\n",
       "      <td>0</td>\n",
       "      <td>0</td>\n",
       "      <td>0</td>\n",
       "      <td>0</td>\n",
       "      <td>0</td>\n",
       "      <td>0</td>\n",
       "      <td>0</td>\n",
       "      <td>0</td>\n",
       "      <td>0</td>\n",
       "    </tr>\n",
       "    <tr>\n",
       "      <th>9</th>\n",
       "      <td>1198.981607</td>\n",
       "      <td>104.000000</td>\n",
       "      <td>2366.0</td>\n",
       "      <td>570.998824</td>\n",
       "      <td>59.99908</td>\n",
       "      <td>149.158444</td>\n",
       "      <td>76.0</td>\n",
       "      <td>1546.0</td>\n",
       "      <td>1</td>\n",
       "      <td>117339</td>\n",
       "      <td>...</td>\n",
       "      <td>1</td>\n",
       "      <td>0</td>\n",
       "      <td>0</td>\n",
       "      <td>0</td>\n",
       "      <td>0</td>\n",
       "      <td>0</td>\n",
       "      <td>0</td>\n",
       "      <td>0</td>\n",
       "      <td>0</td>\n",
       "      <td>0</td>\n",
       "    </tr>\n",
       "    <tr>\n",
       "      <th>...</th>\n",
       "      <td>...</td>\n",
       "      <td>...</td>\n",
       "      <td>...</td>\n",
       "      <td>...</td>\n",
       "      <td>...</td>\n",
       "      <td>...</td>\n",
       "      <td>...</td>\n",
       "      <td>...</td>\n",
       "      <td>...</td>\n",
       "      <td>...</td>\n",
       "      <td>...</td>\n",
       "      <td>...</td>\n",
       "      <td>...</td>\n",
       "      <td>...</td>\n",
       "      <td>...</td>\n",
       "      <td>...</td>\n",
       "      <td>...</td>\n",
       "      <td>...</td>\n",
       "      <td>...</td>\n",
       "      <td>...</td>\n",
       "      <td>...</td>\n",
       "    </tr>\n",
       "    <tr>\n",
       "      <th>54157</th>\n",
       "      <td>998.000000</td>\n",
       "      <td>127.086957</td>\n",
       "      <td>2830.0</td>\n",
       "      <td>530.000000</td>\n",
       "      <td>88.30000</td>\n",
       "      <td>152.752174</td>\n",
       "      <td>72.0</td>\n",
       "      <td>1830.0</td>\n",
       "      <td>18</td>\n",
       "      <td>23</td>\n",
       "      <td>...</td>\n",
       "      <td>1</td>\n",
       "      <td>0</td>\n",
       "      <td>0</td>\n",
       "      <td>0</td>\n",
       "      <td>0</td>\n",
       "      <td>0</td>\n",
       "      <td>0</td>\n",
       "      <td>0</td>\n",
       "      <td>0</td>\n",
       "      <td>0</td>\n",
       "    </tr>\n",
       "    <tr>\n",
       "      <th>54158</th>\n",
       "      <td>998.000000</td>\n",
       "      <td>127.086957</td>\n",
       "      <td>2830.0</td>\n",
       "      <td>530.000000</td>\n",
       "      <td>88.30000</td>\n",
       "      <td>152.752174</td>\n",
       "      <td>72.0</td>\n",
       "      <td>1830.0</td>\n",
       "      <td>1</td>\n",
       "      <td>23</td>\n",
       "      <td>...</td>\n",
       "      <td>1</td>\n",
       "      <td>0</td>\n",
       "      <td>0</td>\n",
       "      <td>0</td>\n",
       "      <td>0</td>\n",
       "      <td>0</td>\n",
       "      <td>0</td>\n",
       "      <td>0</td>\n",
       "      <td>0</td>\n",
       "      <td>0</td>\n",
       "    </tr>\n",
       "    <tr>\n",
       "      <th>54202</th>\n",
       "      <td>999.000000</td>\n",
       "      <td>126.750000</td>\n",
       "      <td>2690.0</td>\n",
       "      <td>499.750000</td>\n",
       "      <td>91.90000</td>\n",
       "      <td>139.100000</td>\n",
       "      <td>72.0</td>\n",
       "      <td>1690.0</td>\n",
       "      <td>5</td>\n",
       "      <td>28</td>\n",
       "      <td>...</td>\n",
       "      <td>1</td>\n",
       "      <td>0</td>\n",
       "      <td>0</td>\n",
       "      <td>0</td>\n",
       "      <td>0</td>\n",
       "      <td>0</td>\n",
       "      <td>0</td>\n",
       "      <td>0</td>\n",
       "      <td>0</td>\n",
       "      <td>0</td>\n",
       "    </tr>\n",
       "    <tr>\n",
       "      <th>54203</th>\n",
       "      <td>999.000000</td>\n",
       "      <td>126.750000</td>\n",
       "      <td>2690.0</td>\n",
       "      <td>499.750000</td>\n",
       "      <td>91.90000</td>\n",
       "      <td>139.100000</td>\n",
       "      <td>72.0</td>\n",
       "      <td>1690.0</td>\n",
       "      <td>21</td>\n",
       "      <td>28</td>\n",
       "      <td>...</td>\n",
       "      <td>1</td>\n",
       "      <td>0</td>\n",
       "      <td>0</td>\n",
       "      <td>0</td>\n",
       "      <td>0</td>\n",
       "      <td>0</td>\n",
       "      <td>0</td>\n",
       "      <td>0</td>\n",
       "      <td>0</td>\n",
       "      <td>0</td>\n",
       "    </tr>\n",
       "    <tr>\n",
       "      <th>54204</th>\n",
       "      <td>999.000000</td>\n",
       "      <td>126.750000</td>\n",
       "      <td>2690.0</td>\n",
       "      <td>499.750000</td>\n",
       "      <td>91.90000</td>\n",
       "      <td>139.100000</td>\n",
       "      <td>72.0</td>\n",
       "      <td>1690.0</td>\n",
       "      <td>2</td>\n",
       "      <td>28</td>\n",
       "      <td>...</td>\n",
       "      <td>1</td>\n",
       "      <td>0</td>\n",
       "      <td>0</td>\n",
       "      <td>0</td>\n",
       "      <td>0</td>\n",
       "      <td>0</td>\n",
       "      <td>0</td>\n",
       "      <td>0</td>\n",
       "      <td>0</td>\n",
       "      <td>0</td>\n",
       "    </tr>\n",
       "  </tbody>\n",
       "</table>\n",
       "<p>39549 rows × 33 columns</p>\n",
       "</div>"
      ],
      "text/plain": [
       "       mean_cylindree  mean_co2_theorique  mean_ptr  mean_charge_utile  \\\n",
       "0         4806.000000          286.000000    4700.0         530.000000   \n",
       "1         1598.000000          147.000000    2895.0         455.628490   \n",
       "3         1582.000000          108.000000    3420.0         560.456938   \n",
       "7         1560.000000          100.000000    3160.0         569.984985   \n",
       "9         1198.981607          104.000000    2366.0         570.998824   \n",
       "...               ...                 ...       ...                ...   \n",
       "54157      998.000000          127.086957    2830.0         530.000000   \n",
       "54158      998.000000          127.086957    2830.0         530.000000   \n",
       "54202      999.000000          126.750000    2690.0         499.750000   \n",
       "54203      999.000000          126.750000    2690.0         499.750000   \n",
       "54204      999.000000          126.750000    2690.0         499.750000   \n",
       "\n",
       "       mean_puis_kw  mean_co2_reel  mean_nb_decibels  mean_ptac  VOLUME  \\\n",
       "0         368.00000     358.498030              77.0     2500.0       1   \n",
       "1          86.00000     181.021890              72.0     1645.0       1   \n",
       "3          81.00000     151.611933              77.0     1920.0       1   \n",
       "7          88.00000     140.958233              72.0     1860.0       1   \n",
       "9          59.99908     149.158444              76.0     1546.0       1   \n",
       "...             ...            ...               ...        ...     ...   \n",
       "54157      88.30000     152.752174              72.0     1830.0      18   \n",
       "54158      88.30000     152.752174              72.0     1830.0       1   \n",
       "54202      91.90000     139.100000              72.0     1690.0       5   \n",
       "54203      91.90000     139.100000              72.0     1690.0      21   \n",
       "54204      91.90000     139.100000              72.0     1690.0       2   \n",
       "\n",
       "            N  ...  BERLINE  TS TERRAINS/CHEMINS  BREAK  MINIBUS  \\\n",
       "0         203  ...        1                    0      0        0   \n",
       "1        6318  ...        0                    1      0        0   \n",
       "3         419  ...        1                    0      0        0   \n",
       "7        3996  ...        1                    0      0        0   \n",
       "9      117339  ...        1                    0      0        0   \n",
       "...       ...  ...      ...                  ...    ...      ...   \n",
       "54157      23  ...        1                    0      0        0   \n",
       "54158      23  ...        1                    0      0        0   \n",
       "54202      28  ...        1                    0      0        0   \n",
       "54203      28  ...        1                    0      0        0   \n",
       "54204      28  ...        1                    0      0        0   \n",
       "\n",
       "       MONOSPACE COMPACT  COMBISPACE  COUPE  MONOSPACE  MINISPACE  CABRIOLET  \n",
       "0                      0           0      0          0          0          0  \n",
       "1                      0           0      0          0          0          0  \n",
       "3                      0           0      0          0          0          0  \n",
       "7                      0           0      0          0          0          0  \n",
       "9                      0           0      0          0          0          0  \n",
       "...                  ...         ...    ...        ...        ...        ...  \n",
       "54157                  0           0      0          0          0          0  \n",
       "54158                  0           0      0          0          0          0  \n",
       "54202                  0           0      0          0          0          0  \n",
       "54203                  0           0      0          0          0          0  \n",
       "54204                  0           0      0          0          0          0  \n",
       "\n",
       "[39549 rows x 33 columns]"
      ]
     },
     "execution_count": 8,
     "metadata": {},
     "output_type": "execute_result"
    }
   ],
   "source": [
    "datap"
   ]
  },
  {
   "cell_type": "code",
   "execution_count": null,
   "metadata": {},
   "outputs": [
    {
     "data": {
      "text/plain": [
       "0        358.498030\n",
       "1        181.021890\n",
       "3        151.611933\n",
       "7        140.958233\n",
       "9        149.158444\n",
       "            ...    \n",
       "54157    152.752174\n",
       "54158    152.752174\n",
       "54202    139.100000\n",
       "54203    139.100000\n",
       "54204    139.100000\n",
       "Name: mean_co2_reel, Length: 39536, dtype: float64"
      ]
     },
     "execution_count": 9,
     "metadata": {},
     "output_type": "execute_result"
    }
   ],
   "source": [
    "y_sel"
   ]
  },
  {
   "cell_type": "code",
   "execution_count": null,
   "metadata": {},
   "outputs": [
    {
     "data": {
      "text/html": [
       "<style>#sk-container-id-1 {color: black;background-color: white;}#sk-container-id-1 pre{padding: 0;}#sk-container-id-1 div.sk-toggleable {background-color: white;}#sk-container-id-1 label.sk-toggleable__label {cursor: pointer;display: block;width: 100%;margin-bottom: 0;padding: 0.3em;box-sizing: border-box;text-align: center;}#sk-container-id-1 label.sk-toggleable__label-arrow:before {content: \"▸\";float: left;margin-right: 0.25em;color: #696969;}#sk-container-id-1 label.sk-toggleable__label-arrow:hover:before {color: black;}#sk-container-id-1 div.sk-estimator:hover label.sk-toggleable__label-arrow:before {color: black;}#sk-container-id-1 div.sk-toggleable__content {max-height: 0;max-width: 0;overflow: hidden;text-align: left;background-color: #f0f8ff;}#sk-container-id-1 div.sk-toggleable__content pre {margin: 0.2em;color: black;border-radius: 0.25em;background-color: #f0f8ff;}#sk-container-id-1 input.sk-toggleable__control:checked~div.sk-toggleable__content {max-height: 200px;max-width: 100%;overflow: auto;}#sk-container-id-1 input.sk-toggleable__control:checked~label.sk-toggleable__label-arrow:before {content: \"▾\";}#sk-container-id-1 div.sk-estimator input.sk-toggleable__control:checked~label.sk-toggleable__label {background-color: #d4ebff;}#sk-container-id-1 div.sk-label input.sk-toggleable__control:checked~label.sk-toggleable__label {background-color: #d4ebff;}#sk-container-id-1 input.sk-hidden--visually {border: 0;clip: rect(1px 1px 1px 1px);clip: rect(1px, 1px, 1px, 1px);height: 1px;margin: -1px;overflow: hidden;padding: 0;position: absolute;width: 1px;}#sk-container-id-1 div.sk-estimator {font-family: monospace;background-color: #f0f8ff;border: 1px dotted black;border-radius: 0.25em;box-sizing: border-box;margin-bottom: 0.5em;}#sk-container-id-1 div.sk-estimator:hover {background-color: #d4ebff;}#sk-container-id-1 div.sk-parallel-item::after {content: \"\";width: 100%;border-bottom: 1px solid gray;flex-grow: 1;}#sk-container-id-1 div.sk-label:hover label.sk-toggleable__label {background-color: #d4ebff;}#sk-container-id-1 div.sk-serial::before {content: \"\";position: absolute;border-left: 1px solid gray;box-sizing: border-box;top: 0;bottom: 0;left: 50%;z-index: 0;}#sk-container-id-1 div.sk-serial {display: flex;flex-direction: column;align-items: center;background-color: white;padding-right: 0.2em;padding-left: 0.2em;position: relative;}#sk-container-id-1 div.sk-item {position: relative;z-index: 1;}#sk-container-id-1 div.sk-parallel {display: flex;align-items: stretch;justify-content: center;background-color: white;position: relative;}#sk-container-id-1 div.sk-item::before, #sk-container-id-1 div.sk-parallel-item::before {content: \"\";position: absolute;border-left: 1px solid gray;box-sizing: border-box;top: 0;bottom: 0;left: 50%;z-index: -1;}#sk-container-id-1 div.sk-parallel-item {display: flex;flex-direction: column;z-index: 1;position: relative;background-color: white;}#sk-container-id-1 div.sk-parallel-item:first-child::after {align-self: flex-end;width: 50%;}#sk-container-id-1 div.sk-parallel-item:last-child::after {align-self: flex-start;width: 50%;}#sk-container-id-1 div.sk-parallel-item:only-child::after {width: 0;}#sk-container-id-1 div.sk-dashed-wrapped {border: 1px dashed gray;margin: 0 0.4em 0.5em 0.4em;box-sizing: border-box;padding-bottom: 0.4em;background-color: white;}#sk-container-id-1 div.sk-label label {font-family: monospace;font-weight: bold;display: inline-block;line-height: 1.2em;}#sk-container-id-1 div.sk-label-container {text-align: center;}#sk-container-id-1 div.sk-container {/* jupyter's `normalize.less` sets `[hidden] { display: none; }` but bootstrap.min.css set `[hidden] { display: none !important; }` so we also need the `!important` here to be able to override the default hidden behavior on the sphinx rendered scikit-learn.org. See: https://github.com/scikit-learn/scikit-learn/issues/21755 */display: inline-block !important;position: relative;}#sk-container-id-1 div.sk-text-repr-fallback {display: none;}</style><div id=\"sk-container-id-1\" class=\"sk-top-container\"><div class=\"sk-text-repr-fallback\"><pre>Lasso(alpha=0.2)</pre><b>In a Jupyter environment, please rerun this cell to show the HTML representation or trust the notebook. <br />On GitHub, the HTML representation is unable to render, please try loading this page with nbviewer.org.</b></div><div class=\"sk-container\" hidden><div class=\"sk-item\"><div class=\"sk-estimator sk-toggleable\"><input class=\"sk-toggleable__control sk-hidden--visually\" id=\"sk-estimator-id-1\" type=\"checkbox\" checked><label for=\"sk-estimator-id-1\" class=\"sk-toggleable__label sk-toggleable__label-arrow\">Lasso</label><div class=\"sk-toggleable__content\"><pre>Lasso(alpha=0.2)</pre></div></div></div></div></div>"
      ],
      "text/plain": [
       "Lasso(alpha=0.2)"
      ]
     },
     "execution_count": 10,
     "metadata": {},
     "output_type": "execute_result"
    }
   ],
   "source": [
    "x_train, x_test, y_train, y_test = train_test_split(datap_train, y_sel, test_size=0.2)\n",
    "lasso_model = Lasso(alpha=0.2)\n",
    "lasso_model.fit(x_train, y_train)\n"
   ]
  },
  {
   "cell_type": "code",
   "execution_count": null,
   "metadata": {},
   "outputs": [],
   "source": []
  },
  {
   "cell_type": "code",
   "execution_count": null,
   "metadata": {},
   "outputs": [
    {
     "name": "stdout",
     "output_type": "stream",
     "text": [
      "RMSE_model = 9.302\n",
      "R2_score_model = 0.896\n"
     ]
    }
   ],
   "source": [
    "test_predictions_lasso = lasso_model.predict(x_test)\n",
    "\n",
    "print(f\"RMSE_model = {round(sqrt(mean_squared_error(y_test,test_predictions_lasso)),3)}\")\n",
    "\n",
    "print(f\"R2_score_model = {round(r2_score(y_test, test_predictions_lasso),3)}\")"
   ]
  },
  {
   "cell_type": "code",
   "execution_count": null,
   "metadata": {},
   "outputs": [
    {
     "data": {
      "text/plain": [
       "array([154.81799419, 170.37548335, 180.88261451, ..., 213.71257983,\n",
       "       116.92435795, 168.75329386])"
      ]
     },
     "execution_count": 12,
     "metadata": {},
     "output_type": "execute_result"
    }
   ],
   "source": [
    "test_predictions_lasso"
   ]
  },
  {
   "cell_type": "markdown",
   "metadata": {
    "tags": []
   },
   "source": [
    "## 2. On catégorise les véhicules selon leur emission reelle de co2"
   ]
  },
  {
   "cell_type": "code",
   "execution_count": null,
   "metadata": {},
   "outputs": [
    {
     "data": {
      "text/plain": [
       "Index(['mean_cylindree', 'mean_co2_theorique', 'mean_ptr', 'mean_charge_utile',\n",
       "       'mean_puis_kw', 'mean_nb_decibels', 'mean_ptac', 'ES', 'GO', 'FE', 'EE',\n",
       "       'EH', 'GH', 'EL', 'GN', 'GL', 'EG', 'FH', 'EN', 'BERLINE',\n",
       "       'TS TERRAINS/CHEMINS', 'BREAK', 'MINIBUS', 'MONOSPACE COMPACT',\n",
       "       'COMBISPACE', 'COUPE', 'MONOSPACE', 'MINISPACE', 'CABRIOLET'],\n",
       "      dtype='object')"
      ]
     },
     "execution_count": 13,
     "metadata": {},
     "output_type": "execute_result"
    }
   ],
   "source": [
    "x_test.columns"
   ]
  },
  {
   "cell_type": "code",
   "execution_count": null,
   "metadata": {},
   "outputs": [
    {
     "data": {
      "text/plain": [
       "Index(['mean_cylindree', 'mean_co2_theorique', 'mean_ptr', 'mean_charge_utile',\n",
       "       'mean_puis_kw', 'mean_nb_decibels', 'mean_ptac', 'ES', 'GO', 'FE', 'EE',\n",
       "       'EH', 'GH', 'EL', 'GN', 'GL', 'EG', 'FH', 'EN', 'BERLINE',\n",
       "       'TS TERRAINS/CHEMINS', 'BREAK', 'MINIBUS', 'MONOSPACE COMPACT',\n",
       "       'COMBISPACE', 'COUPE', 'MONOSPACE', 'MINISPACE', 'CABRIOLET'],\n",
       "      dtype='object')"
      ]
     },
     "execution_count": 14,
     "metadata": {},
     "output_type": "execute_result"
    }
   ],
   "source": [
    "datas.columns"
   ]
  },
  {
   "cell_type": "code",
   "execution_count": null,
   "metadata": {},
   "outputs": [
    {
     "data": {
      "text/plain": [
       "array([154.81799419, 170.37548335, 180.88261451, ..., 213.71257983,\n",
       "       116.92435795, 168.75329386])"
      ]
     },
     "execution_count": 15,
     "metadata": {},
     "output_type": "execute_result"
    }
   ],
   "source": [
    "lasso_model.predict(x_test)"
   ]
  },
  {
   "cell_type": "code",
   "execution_count": null,
   "metadata": {},
   "outputs": [],
   "source": [
    "# les données\n",
    "datap['CO2reel'] = lasso_model.predict(datas)\n",
    "\n",
    "datap.loc[datap['EL']==1, 'CO2reel']=0\n",
    "\n",
    "CO2reel=datap['CO2reel']\n",
    "\n",
    "#Choix du nombre de catégories\n",
    "N = 30\n",
    "nb_vehicules = datap['VOLUME'].sum()"
   ]
  },
  {
   "cell_type": "code",
   "execution_count": null,
   "metadata": {},
   "outputs": [
    {
     "name": "stdout",
     "output_type": "stream",
     "text": [
      "       mean_cylindree  mean_co2_theorique  mean_ptr  mean_charge_utile  \\\n",
      "0         4806.000000          286.000000    4700.0         530.000000   \n",
      "1         1598.000000          147.000000    2895.0         455.628490   \n",
      "3         1582.000000          108.000000    3420.0         560.456938   \n",
      "7         1560.000000          100.000000    3160.0         569.984985   \n",
      "9         1198.981607          104.000000    2366.0         570.998824   \n",
      "...               ...                 ...       ...                ...   \n",
      "54157      998.000000          127.086957    2830.0         530.000000   \n",
      "54158      998.000000          127.086957    2830.0         530.000000   \n",
      "54202      999.000000          126.750000    2690.0         499.750000   \n",
      "54203      999.000000          126.750000    2690.0         499.750000   \n",
      "54204      999.000000          126.750000    2690.0         499.750000   \n",
      "\n",
      "       mean_puis_kw  mean_co2_reel  mean_nb_decibels  mean_ptac  VOLUME  \\\n",
      "0         368.00000     358.498030              77.0     2500.0       1   \n",
      "1          86.00000     181.021890              72.0     1645.0       1   \n",
      "3          81.00000     151.611933              77.0     1920.0       1   \n",
      "7          88.00000     140.958233              72.0     1860.0       1   \n",
      "9          59.99908     149.158444              76.0     1546.0       1   \n",
      "...             ...            ...               ...        ...     ...   \n",
      "54157      88.30000     152.752174              72.0     1830.0      18   \n",
      "54158      88.30000     152.752174              72.0     1830.0       1   \n",
      "54202      91.90000     139.100000              72.0     1690.0       5   \n",
      "54203      91.90000     139.100000              72.0     1690.0      21   \n",
      "54204      91.90000     139.100000              72.0     1690.0       2   \n",
      "\n",
      "            N  ...  TS TERRAINS/CHEMINS  BREAK  MINIBUS  MONOSPACE COMPACT  \\\n",
      "0         203  ...                    0      0        0                  0   \n",
      "1        6318  ...                    1      0        0                  0   \n",
      "3         419  ...                    0      0        0                  0   \n",
      "7        3996  ...                    0      0        0                  0   \n",
      "9      117339  ...                    0      0        0                  0   \n",
      "...       ...  ...                  ...    ...      ...                ...   \n",
      "54157      23  ...                    0      0        0                  0   \n",
      "54158      23  ...                    0      0        0                  0   \n",
      "54202      28  ...                    0      0        0                  0   \n",
      "54203      28  ...                    0      0        0                  0   \n",
      "54204      28  ...                    0      0        0                  0   \n",
      "\n",
      "       COMBISPACE  COUPE  MONOSPACE  MINISPACE  CABRIOLET     CO2reel  \n",
      "0               0      0          0          0          0  330.850310  \n",
      "1               0      0          0          0          0  164.171552  \n",
      "3               0      0          0          0          0  126.203774  \n",
      "7               0      0          0          0          0  121.174366  \n",
      "9               0      0          0          0          0  126.729016  \n",
      "...           ...    ...        ...        ...        ...         ...  \n",
      "54157           0      0          0          0          0  150.825569  \n",
      "54158           0      0          0          0          0  150.825569  \n",
      "54202           0      0          0          0          0  150.465737  \n",
      "54203           0      0          0          0          0  150.465737  \n",
      "54204           0      0          0          0          0  150.465737  \n",
      "\n",
      "[39549 rows x 34 columns]\n"
     ]
    }
   ],
   "source": [
    "print(datap)"
   ]
  },
  {
   "cell_type": "markdown",
   "metadata": {},
   "source": [
    "On categorise de maniere uniforme selon le co2 reel"
   ]
  },
  {
   "cell_type": "code",
   "execution_count": null,
   "metadata": {},
   "outputs": [],
   "source": [
    "# 1. On trie les modeles par CO2 croissant\n",
    "datap = datap.sort_values(by='CO2reel')\n",
    "\n",
    "#nombre de catégories\n",
    "N = 60\n",
    "min_value = datap[datap['CO2reel'] > 0]['CO2reel'].min()\n",
    "maxCO2 = datap['CO2reel'].max()\n",
    "bins_limits = np.concatenate((np.array([0]), np.linspace(min_value, maxCO2, N-2), np.array([maxCO2+1])))\n",
    "\n",
    "\n",
    "\n",
    "# 2. On decoupe en tranche de CO2 \n",
    "datap['CO2bins'] = pd.cut(datap['CO2reel'], bins=bins_limits, include_lowest=True, right=False)\n"
   ]
  },
  {
   "cell_type": "code",
   "execution_count": null,
   "metadata": {},
   "outputs": [
    {
     "data": {
      "text/plain": [
       "array([  0.        ,  66.38155961,  69.77837436,  73.1751891 ,\n",
       "        76.57200384,  79.96881859,  83.36563333,  86.76244808,\n",
       "        90.15926282,  93.55607756,  96.95289231, 100.34970705,\n",
       "       103.74652179, 107.14333654, 110.54015128, 113.93696602,\n",
       "       117.33378077, 120.73059551, 124.12741026, 127.524225  ,\n",
       "       130.92103974, 134.31785449, 137.71466923, 141.11148397,\n",
       "       144.50829872, 147.90511346, 151.3019282 , 154.69874295,\n",
       "       158.09555769, 161.49237244, 164.88918718, 168.28600192,\n",
       "       171.68281667, 175.07963141, 178.47644615, 181.8732609 ,\n",
       "       185.27007564, 188.66689038, 192.06370513, 195.46051987,\n",
       "       198.85733461, 202.25414936, 205.6509641 , 209.04777885,\n",
       "       212.44459359, 215.84140833, 219.23822308, 222.63503782,\n",
       "       226.03185256, 229.42866731, 232.82548205, 236.22229679,\n",
       "       239.61911154, 243.01592628, 246.41274103, 249.80955577,\n",
       "       253.20637051, 256.60318526, 260.        , 417.66824141])"
      ]
     },
     "execution_count": 96,
     "metadata": {},
     "output_type": "execute_result"
    }
   ],
   "source": [
    "bins_limits"
   ]
  },
  {
   "cell_type": "code",
   "execution_count": null,
   "metadata": {},
   "outputs": [
    {
     "name": "stdout",
     "output_type": "stream",
     "text": [
      "416.668241412398\n"
     ]
    }
   ],
   "source": [
    "print(datap['CO2reel'].max())"
   ]
  },
  {
   "cell_type": "code",
   "execution_count": null,
   "metadata": {},
   "outputs": [
    {
     "data": {
      "text/plain": [
       "286         [0.0, 66.382)\n",
       "3326        [0.0, 66.382)\n",
       "288         [0.0, 66.382)\n",
       "3325        [0.0, 66.382)\n",
       "287         [0.0, 66.382)\n",
       "               ...       \n",
       "33882    [260.0, 417.668)\n",
       "33883    [260.0, 417.668)\n",
       "33884    [260.0, 417.668)\n",
       "47997    [260.0, 417.668)\n",
       "47996    [260.0, 417.668)\n",
       "Name: CO2bins, Length: 39549, dtype: category\n",
       "Categories (59, interval[float64, left]): [[0.0, 66.382) < [66.382, 69.778) < [69.778, 73.175) < [73.175, 76.572) ... [249.81, 253.206) < [253.206, 256.603) < [256.603, 260.0) < [260.0, 417.668)]"
      ]
     },
     "execution_count": 98,
     "metadata": {},
     "output_type": "execute_result"
    }
   ],
   "source": [
    "datap['CO2bins']"
   ]
  },
  {
   "cell_type": "markdown",
   "metadata": {},
   "source": [
    "On créé les vecteurs prix et CO2reel necessaires a l'optimisation. "
   ]
  },
  {
   "cell_type": "code",
   "execution_count": null,
   "metadata": {},
   "outputs": [],
   "source": [
    "\n",
    "# Group by the new 'Co2_prf_bins' column and count the number of vehicles in each bin\n",
    "price_by_bin = datap.groupby('CO2bins')['Prix du véhicule'].mean()\n",
    "p=price_by_bin\n",
    "\n",
    "# Get the mean CO2 from each bin\n",
    "meanCO2_by_bin = datap.groupby('CO2bins')['CO2reel'].mean()\n",
    "CO2reel=meanCO2_by_bin\n",
    "\n",
    "CO2theorique=datap.groupby('CO2bins')['mean_co2_theorique'].mean()"
   ]
  },
  {
   "cell_type": "code",
   "execution_count": null,
   "metadata": {},
   "outputs": [
    {
     "ename": "NameError",
     "evalue": "name 'datap' is not defined",
     "output_type": "error",
     "traceback": [
      "\u001b[0;31m---------------------------------------------------------------------------\u001b[0m",
      "\u001b[0;31mNameError\u001b[0m                                 Traceback (most recent call last)",
      "Cell \u001b[0;32mIn [1], line 1\u001b[0m\n\u001b[0;32m----> 1\u001b[0m \u001b[43mdatap\u001b[49m\u001b[38;5;241m.\u001b[39mgroupby(\u001b[38;5;124m'\u001b[39m\u001b[38;5;124mCO2bins\u001b[39m\u001b[38;5;124m'\u001b[39m)[\u001b[38;5;124m'\u001b[39m\u001b[38;5;124mVOLUME\u001b[39m\u001b[38;5;124m'\u001b[39m]\u001b[38;5;241m.\u001b[39msum()\n",
      "\u001b[0;31mNameError\u001b[0m: name 'datap' is not defined"
     ]
    }
   ],
   "source": [
    "datap.groupby('CO2bins')['VOLUME'].sum()"
   ]
  },
  {
   "cell_type": "code",
   "execution_count": null,
   "metadata": {},
   "outputs": [
    {
     "data": {
      "text/plain": [
       "CO2bins\n",
       "[0.0, 66.382)           0.000000\n",
       "[66.382, 69.778)       67.577801\n",
       "[69.778, 73.175)       72.195569\n",
       "[73.175, 76.572)       75.287266\n",
       "[76.572, 79.969)       78.158437\n",
       "[79.969, 83.366)       81.458990\n",
       "[83.366, 86.762)       85.266236\n",
       "[86.762, 90.159)       88.514416\n",
       "[90.159, 93.556)       91.468617\n",
       "[93.556, 96.953)       95.459179\n",
       "[96.953, 100.35)       98.485057\n",
       "[100.35, 103.747)     101.014831\n",
       "[103.747, 107.143)    105.616654\n",
       "[107.143, 110.54)     108.622090\n",
       "[110.54, 113.937)     112.298841\n",
       "[113.937, 117.334)    116.285579\n",
       "[117.334, 120.731)    118.888034\n",
       "[120.731, 124.127)    122.365441\n",
       "[124.127, 127.524)    125.818717\n",
       "[127.524, 130.921)    129.145126\n",
       "[130.921, 134.318)    132.872066\n",
       "[134.318, 137.715)    136.086716\n",
       "[137.715, 141.111)    139.439085\n",
       "[141.111, 144.508)    142.748089\n",
       "[144.508, 147.905)    146.370089\n",
       "[147.905, 151.302)    149.586832\n",
       "[151.302, 154.699)    152.898848\n",
       "[154.699, 158.096)    156.423323\n",
       "[158.096, 161.492)    159.780249\n",
       "[161.492, 164.889)    163.132894\n",
       "[164.889, 168.286)    166.615125\n",
       "[168.286, 171.683)    169.996292\n",
       "[171.683, 175.08)     173.406875\n",
       "[175.08, 178.476)     176.716325\n",
       "[178.476, 181.873)    180.004180\n",
       "[181.873, 185.27)     183.516961\n",
       "[185.27, 188.667)     187.242770\n",
       "[188.667, 192.064)    190.478414\n",
       "[192.064, 195.461)    193.521195\n",
       "[195.461, 198.857)    197.475131\n",
       "[198.857, 202.254)    200.551481\n",
       "[202.254, 205.651)    203.889842\n",
       "[205.651, 209.048)    207.157031\n",
       "[209.048, 212.445)    209.958423\n",
       "[212.445, 215.841)    214.226344\n",
       "[215.841, 219.238)    216.844912\n",
       "[219.238, 222.635)    220.900838\n",
       "[222.635, 226.032)    224.504972\n",
       "[226.032, 229.429)    227.513186\n",
       "[229.429, 232.825)    231.119948\n",
       "[232.825, 236.222)    234.177848\n",
       "[236.222, 239.619)    237.188857\n",
       "[239.619, 243.016)    241.512430\n",
       "[243.016, 246.413)    244.422267\n",
       "[246.413, 249.81)     249.546321\n",
       "[249.81, 253.206)     252.156403\n",
       "[253.206, 256.603)    254.591037\n",
       "[256.603, 260.0)      258.137922\n",
       "[260.0, 417.668)      317.343655\n",
       "Name: CO2reel, dtype: float64"
      ]
     },
     "execution_count": 102,
     "metadata": {},
     "output_type": "execute_result"
    }
   ],
   "source": [
    "CO2reel"
   ]
  },
  {
   "cell_type": "code",
   "execution_count": null,
   "metadata": {},
   "outputs": [
    {
     "data": {
      "text/plain": [
       "CO2bins\n",
       "[0.0, 66.382)           0.000000\n",
       "[66.382, 69.778)       29.509876\n",
       "[69.778, 73.175)       30.162466\n",
       "[73.175, 76.572)       24.947037\n",
       "[76.572, 79.969)       28.200124\n",
       "[79.969, 83.366)       30.722673\n",
       "[83.366, 86.762)       33.244016\n",
       "[86.762, 90.159)       34.544430\n",
       "[90.159, 93.556)       35.478795\n",
       "[93.556, 96.953)       36.812528\n",
       "[96.953, 100.35)       43.891655\n",
       "[100.35, 103.747)      45.827230\n",
       "[103.747, 107.143)     39.464457\n",
       "[107.143, 110.54)      45.471847\n",
       "[110.54, 113.937)      57.847180\n",
       "[113.937, 117.334)     90.094205\n",
       "[117.334, 120.731)     83.984200\n",
       "[120.731, 124.127)    103.077162\n",
       "[124.127, 127.524)    104.023397\n",
       "[127.524, 130.921)    110.642539\n",
       "[130.921, 134.318)    114.623954\n",
       "[134.318, 137.715)    118.500051\n",
       "[137.715, 141.111)    118.144946\n",
       "[141.111, 144.508)    122.301595\n",
       "[144.508, 147.905)    125.939817\n",
       "[147.905, 151.302)    127.081873\n",
       "[151.302, 154.699)    133.100147\n",
       "[154.699, 158.096)    135.463569\n",
       "[158.096, 161.492)    138.334133\n",
       "[161.492, 164.889)    141.956825\n",
       "[164.889, 168.286)    145.758458\n",
       "[168.286, 171.683)    147.463100\n",
       "[171.683, 175.08)     150.926152\n",
       "[175.08, 178.476)     154.543118\n",
       "[178.476, 181.873)    157.825433\n",
       "[181.873, 185.27)     159.553951\n",
       "[185.27, 188.667)     163.058847\n",
       "[188.667, 192.064)    163.271430\n",
       "[192.064, 195.461)    168.894018\n",
       "[195.461, 198.857)    169.170183\n",
       "[198.857, 202.254)    171.186703\n",
       "[202.254, 205.651)    178.991432\n",
       "[205.651, 209.048)    180.054984\n",
       "[209.048, 212.445)    177.623267\n",
       "[212.445, 215.841)    186.916888\n",
       "[215.841, 219.238)    184.891305\n",
       "[219.238, 222.635)    189.599608\n",
       "[222.635, 226.032)    188.742195\n",
       "[226.032, 229.429)    194.128163\n",
       "[229.429, 232.825)    192.458826\n",
       "[232.825, 236.222)    194.641221\n",
       "[236.222, 239.619)    198.635965\n",
       "[239.619, 243.016)    201.866516\n",
       "[243.016, 246.413)    185.240819\n",
       "[246.413, 249.81)     219.548387\n",
       "[249.81, 253.206)     217.637107\n",
       "[253.206, 256.603)    215.562676\n",
       "[256.603, 260.0)      209.721139\n",
       "[260.0, 417.668)      268.831922\n",
       "Name: mean_co2_theorique, dtype: float64"
      ]
     },
     "execution_count": 103,
     "metadata": {},
     "output_type": "execute_result"
    }
   ],
   "source": [
    "CO2theorique"
   ]
  },
  {
   "cell_type": "code",
   "execution_count": null,
   "metadata": {},
   "outputs": [],
   "source": []
  },
  {
   "cell_type": "code",
   "execution_count": null,
   "metadata": {},
   "outputs": [],
   "source": []
  }
 ],
 "metadata": {
  "kernelspec": {
   "display_name": "Python 3 (ipykernel)",
   "language": "python",
   "name": "python3"
  },
  "language_info": {
   "codemirror_mode": {
    "name": "ipython",
    "version": 3
   },
   "file_extension": ".py",
   "mimetype": "text/x-python",
   "name": "python",
   "nbconvert_exporter": "python",
   "pygments_lexer": "ipython3",
   "version": "3.10.6"
  }
 },
 "nbformat": 4,
 "nbformat_minor": 4
}
