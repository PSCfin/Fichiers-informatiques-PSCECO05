{
 "cells": [
  {
   "cell_type": "markdown",
   "metadata": {
    "id": "CddJOnRswG9t"
   },
   "source": [
    "# PARTIE 4: Etude de l'impact des malus 2021 et 2024 sur les emissions de CO2 (en se basant sur le modele logit)\n",
    "1. Travail sur les données\n",
    "2. Estimation du CO2 réel avec un modele de machine learning (succes)\n",
    "3. Calcul du parametre delta calibrant notre modele logit de consommation\n",
    "4. Test de notre fonction logit part_de_marche avec le delta (succès): les parts de marché estimées avec le malus 2021 correspondent aux ventes 2021\n",
    "\n",
    "5. Affichage de l'effet des différents malus sur les emissions moyennes de CO2 en se basant sur le modele logit\n",
    "    (malus basé sur co2 théorique ou réel )"
   ]
  },
  {
   "cell_type": "code",
   "execution_count": null,
   "metadata": {
    "executionInfo": {
     "elapsed": 224,
     "status": "ok",
     "timestamp": 1713419817526,
     "user": {
      "displayName": "Clément Malgouyres",
      "userId": "01026017214224131197"
     },
     "user_tz": -120
    },
    "id": "LrXnQ7ZEwG9u"
   },
   "outputs": [],
   "source": [
    "import numpy as np\n",
    "np.float=float\n",
    "import pandas as pd\n",
    "from math import sqrt\n",
    "import matplotlib.pyplot as plt\n",
    "from sklearn.model_selection import train_test_split\n",
    "from sklearn.linear_model import LinearRegression\n",
    "from sklearn.metrics import mean_squared_error, r2_score\n",
    "from sklearn import preprocessing\n",
    "import seaborn as sns\n",
    "from sklearn.neighbors import KNeighborsRegressor\n",
    "np.bool = bool\n",
    "from sklearn.linear_model import Lasso\n",
    "import re"
   ]
  },
  {
   "cell_type": "markdown",
   "metadata": {
    "id": "lt_TIfYgwG9u"
   },
   "source": [
    "## 1. Travail sur les données"
   ]
  },
  {
   "cell_type": "code",
   "execution_count": null,
   "metadata": {
    "colab": {
     "base_uri": "https://localhost:8080/"
    },
    "executionInfo": {
     "elapsed": 1664,
     "status": "ok",
     "timestamp": 1713419819443,
     "user": {
      "displayName": "Clément Malgouyres",
      "userId": "01026017214224131197"
     },
     "user_tz": -120
    },
    "id": "RiaV7WYX0OTT",
    "outputId": "e7e877d6-d2cc-471a-c311-18d62c2bc6e1"
   },
   "outputs": [],
   "source": [
    "#from google.colab import drive\n",
    "#drive.mount('/content/gdrive')"
   ]
  },
  {
   "cell_type": "code",
   "execution_count": null,
   "metadata": {
    "executionInfo": {
     "elapsed": 5,
     "status": "ok",
     "timestamp": 1713419819443,
     "user": {
      "displayName": "Clément Malgouyres",
      "userId": "01026017214224131197"
     },
     "user_tz": -120
    },
    "id": "DLJoPYm-0dBf"
   },
   "outputs": [],
   "source": [
    "#/content/gdrive/MyDrive"
   ]
  },
  {
   "cell_type": "code",
   "execution_count": null,
   "metadata": {
    "executionInfo": {
     "elapsed": 4,
     "status": "ok",
     "timestamp": 1713419819443,
     "user": {
      "displayName": "Clément Malgouyres",
      "userId": "01026017214224131197"
     },
     "user_tz": -120
    },
    "id": "mQ20k5oWyRG1"
   },
   "outputs": [],
   "source": [
    "#file_path = '/content/gdrive/MyDrive/psc/data_BLP_caracteristics_CO2_corr.xlsx'"
   ]
  },
  {
   "cell_type": "markdown",
   "metadata": {
    "id": "1kC1C5LlwG9v"
   },
   "source": [
    "Base rsvero 2021"
   ]
  },
  {
   "cell_type": "code",
   "execution_count": null,
   "metadata": {
    "executionInfo": {
     "elapsed": 54137,
     "status": "ok",
     "timestamp": 1713419873576,
     "user": {
      "displayName": "Clément Malgouyres",
      "userId": "01026017214224131197"
     },
     "user_tz": -120
    },
    "id": "C4FcykHYyaM5"
   },
   "outputs": [],
   "source": [
    "#data = pd.read_excel(file_path)\n",
    "data = pd.read_excel('data_BLP_caracteristics_CO2_corr.xlsx')"
   ]
  },
  {
   "cell_type": "code",
   "execution_count": null,
   "metadata": {
    "colab": {
     "base_uri": "https://localhost:8080/"
    },
    "executionInfo": {
     "elapsed": 9,
     "status": "ok",
     "timestamp": 1713419873576,
     "user": {
      "displayName": "Clément Malgouyres",
      "userId": "01026017214224131197"
     },
     "user_tz": -120
    },
    "id": "sGWv8xB5wG9v",
    "outputId": "5e52489f-229b-4682-ee2b-0e96ddf568cd"
   },
   "outputs": [
    {
     "name": "stdout",
     "output_type": "stream",
     "text": [
      "['type_cnit', 'energ', 'marque_corr', 'modele_corr', 'nb_pl_ass', 'puis_fisc', 'min_year_circ', 'max_year_circ', 'mean_cylindree', 'mean_co2_theorique', 'mean_co2_theorique_corr', 'mean_co2_reel', 'mean_nb_decibels', 'mean_ptr', 'mean_ptac', 'mean_charge_utile', 'mean_puis_kw', 'sd_cylindree', 'sd_co2_theorique', 'sd_co2_theorique_corr', 'sd_co2_reel', 'sd_nb_decibels', 'sd_ptr', 'sd_ptac', 'sd_charge_utile', 'sd_puis_kw', 'N']\n"
     ]
    }
   ],
   "source": [
    "columns=list(data.columns.values)\n",
    "print(columns)"
   ]
  },
  {
   "cell_type": "markdown",
   "metadata": {
    "id": "Ev-O8BLGwG9v"
   },
   "source": [
    "Base ADEME 2021"
   ]
  },
  {
   "cell_type": "code",
   "execution_count": null,
   "metadata": {
    "executionInfo": {
     "elapsed": 26902,
     "status": "ok",
     "timestamp": 1713419900473,
     "user": {
      "displayName": "Clément Malgouyres",
      "userId": "01026017214224131197"
     },
     "user_tz": -120
    },
    "id": "EtHzRj0VwG9v"
   },
   "outputs": [],
   "source": [
    "#file_path2 = '/content/gdrive/MyDrive/psc/ventes 2021_IPP.xlsx'\n",
    "#data2=pd.read_excel(file_path2)\n",
    "data2=pd.read_excel('ventes 2021_IPP.xlsx')"
   ]
  },
  {
   "cell_type": "markdown",
   "metadata": {
    "id": "Mdte5UCg1hLr"
   },
   "source": []
  },
  {
   "cell_type": "code",
   "execution_count": null,
   "metadata": {
    "colab": {
     "base_uri": "https://localhost:8080/"
    },
    "executionInfo": {
     "elapsed": 18,
     "status": "ok",
     "timestamp": 1713419900474,
     "user": {
      "displayName": "Clément Malgouyres",
      "userId": "01026017214224131197"
     },
     "user_tz": -120
    },
    "id": "xPLSoXDbwG9v",
    "outputId": "761a4b54-81ae-4537-ff70-bacdf4126128"
   },
   "outputs": [
    {
     "data": {
      "text/plain": [
       "Index(['DATE', 'Genre', 'Marque', 'Type', 'Puissance fiscale', 'Modèle',\n",
       "       'Version', 'Carrosserie', 'Energie', 'Cylindrée', 'Gamme',\n",
       "       'Poids à vide', 'Puissance KW', 'Rapport poid puissance',\n",
       "       'Type de boite', 'Groupe', 'MF/ME', 'Consommation extra-urbaine',\n",
       "       'Consommation mixte', 'Consommation urbaine', 'BONUS_MALUS',\n",
       "       'Prix du véhicule', 'CO2_PRF', 'DATE_ARRETE', 'VOLUME', 'JO'],\n",
       "      dtype='object')"
      ]
     },
     "execution_count": 8,
     "metadata": {},
     "output_type": "execute_result"
    }
   ],
   "source": [
    "data2.columns"
   ]
  },
  {
   "cell_type": "code",
   "execution_count": null,
   "metadata": {
    "colab": {
     "base_uri": "https://localhost:8080/"
    },
    "executionInfo": {
     "elapsed": 16,
     "status": "ok",
     "timestamp": 1713419900474,
     "user": {
      "displayName": "Clément Malgouyres",
      "userId": "01026017214224131197"
     },
     "user_tz": -120
    },
    "id": "5Fzt-YxnwG9w",
    "outputId": "6e330e84-de34-43c1-eb0c-68fa4607f639"
   },
   "outputs": [
    {
     "data": {
      "text/plain": [
       "Index(['type_cnit', 'energ', 'marque_corr', 'modele_corr', 'nb_pl_ass',\n",
       "       'puis_fisc', 'min_year_circ', 'max_year_circ', 'mean_cylindree',\n",
       "       'mean_co2_theorique', 'mean_co2_theorique_corr', 'mean_co2_reel',\n",
       "       'mean_nb_decibels', 'mean_ptr', 'mean_ptac', 'mean_charge_utile',\n",
       "       'mean_puis_kw', 'sd_cylindree', 'sd_co2_theorique',\n",
       "       'sd_co2_theorique_corr', 'sd_co2_reel', 'sd_nb_decibels', 'sd_ptr',\n",
       "       'sd_ptac', 'sd_charge_utile', 'sd_puis_kw', 'N'],\n",
       "      dtype='object')"
      ]
     },
     "execution_count": 9,
     "metadata": {},
     "output_type": "execute_result"
    }
   ],
   "source": [
    "data.columns"
   ]
  },
  {
   "cell_type": "code",
   "execution_count": null,
   "metadata": {
    "executionInfo": {
     "elapsed": 14,
     "status": "ok",
     "timestamp": 1713419900474,
     "user": {
      "displayName": "Clément Malgouyres",
      "userId": "01026017214224131197"
     },
     "user_tz": -120
    },
    "id": "ZKb7Ja21wG9w"
   },
   "outputs": [],
   "source": [
    "data.rename(columns={'type_cnit': 'Type'}, inplace=True) #renomme le cnit"
   ]
  },
  {
   "cell_type": "code",
   "execution_count": null,
   "metadata": {
    "executionInfo": {
     "elapsed": 593,
     "status": "ok",
     "timestamp": 1713419901054,
     "user": {
      "displayName": "Clément Malgouyres",
      "userId": "01026017214224131197"
     },
     "user_tz": -120
    },
    "id": "hgz4ERQtwG9w"
   },
   "outputs": [],
   "source": [
    "new_data = pd.merge(data, data2, on='Type', how='inner') #fusionne les 2 par le cnit"
   ]
  },
  {
   "cell_type": "code",
   "execution_count": null,
   "metadata": {
    "colab": {
     "base_uri": "https://localhost:8080/"
    },
    "executionInfo": {
     "elapsed": 234,
     "status": "ok",
     "timestamp": 1713420154085,
     "user": {
      "displayName": "Clément Malgouyres",
      "userId": "01026017214224131197"
     },
     "user_tz": -120
    },
    "id": "Rnkr8ZMswG9w",
    "outputId": "a0abd422-6b1b-4188-efed-74878a29b946",
    "scrolled": true
   },
   "outputs": [
    {
     "name": "stdout",
     "output_type": "stream",
     "text": [
      "       mean_cylindree  mean_co2_theorique  mean_ptr  mean_charge_utile  \\\n",
      "0              4806.0          286.000000    4700.0         530.000000   \n",
      "1              1598.0          147.000000    2895.0         455.628490   \n",
      "3              1582.0          108.000000    3420.0         560.456938   \n",
      "4                 NaN            0.000000       NaN         385.000000   \n",
      "5                 NaN            0.000000       NaN         470.000000   \n",
      "...               ...                 ...       ...                ...   \n",
      "54158           998.0          127.086957    2830.0         530.000000   \n",
      "54202           999.0          126.750000    2690.0         499.750000   \n",
      "54203           999.0          126.750000    2690.0         499.750000   \n",
      "54204           999.0          126.750000    2690.0         499.750000   \n",
      "54529          2894.0           76.782609       NaN         595.000000   \n",
      "\n",
      "       mean_puis_kw  mean_co2_reel energ  mean_nb_decibels  Prix du véhicule  \\\n",
      "0        368.000000     358.498030    ES              77.0          142807.0   \n",
      "1         86.000000     181.021890    ES              72.0           25254.0   \n",
      "3         81.000000     151.611933    GO              77.0           23905.0   \n",
      "4         35.000000       0.000000    EL               NaN           26900.0   \n",
      "5         24.655689       0.000000    EL               NaN           36150.0   \n",
      "...             ...            ...   ...               ...               ...   \n",
      "54158     88.300000     152.752174    ES              72.0           29933.0   \n",
      "54202     91.900000     139.100000    ES              72.0           22825.0   \n",
      "54203     91.900000     139.100000    ES              72.0           22825.0   \n",
      "54204     91.900000     139.100000    ES              72.0           23900.0   \n",
      "54529    243.000000     176.500000    EE              87.0          115276.0   \n",
      "\n",
      "               Carrosserie  VOLUME  CO2_PRF  \n",
      "0                  BERLINE       1      286  \n",
      "1      TS TERRAINS/CHEMINS       1      147  \n",
      "3                  BERLINE       1      108  \n",
      "4                  BERLINE       1        0  \n",
      "5                MINISPACE       1        0  \n",
      "...                    ...     ...      ...  \n",
      "54158              BERLINE       1      127  \n",
      "54202              BERLINE       5      126  \n",
      "54203              BERLINE      21      127  \n",
      "54204              BERLINE       2      126  \n",
      "54529              BERLINE       1       76  \n",
      "\n",
      "[44253 rows x 12 columns]\n"
     ]
    }
   ],
   "source": [
    "datap=new_data.loc[new_data['N']>20]\n",
    "datap = datap[['mean_cylindree','mean_co2_theorique','mean_ptr', 'mean_charge_utile','mean_puis_kw', 'mean_co2_reel', 'energ', 'mean_nb_decibels','Prix du véhicule','Carrosserie', 'VOLUME','CO2_PRF']]\n",
    "print(datap)"
   ]
  },
  {
   "cell_type": "code",
   "execution_count": null,
   "metadata": {
    "colab": {
     "base_uri": "https://localhost:8080/",
     "height": 300
    },
    "executionInfo": {
     "elapsed": 356,
     "status": "ok",
     "timestamp": 1713420160883,
     "user": {
      "displayName": "Clément Malgouyres",
      "userId": "01026017214224131197"
     },
     "user_tz": -120
    },
    "id": "bXEA9tzqwG9w",
    "outputId": "f4a501e0-3382-46f5-c361-88e44ebb8bb9"
   },
   "outputs": [
    {
     "data": {
      "text/html": [
       "<div>\n",
       "<style scoped>\n",
       "    .dataframe tbody tr th:only-of-type {\n",
       "        vertical-align: middle;\n",
       "    }\n",
       "\n",
       "    .dataframe tbody tr th {\n",
       "        vertical-align: top;\n",
       "    }\n",
       "\n",
       "    .dataframe thead th {\n",
       "        text-align: right;\n",
       "    }\n",
       "</style>\n",
       "<table border=\"1\" class=\"dataframe\">\n",
       "  <thead>\n",
       "    <tr style=\"text-align: right;\">\n",
       "      <th></th>\n",
       "      <th>mean_cylindree</th>\n",
       "      <th>mean_co2_theorique</th>\n",
       "      <th>mean_ptr</th>\n",
       "      <th>mean_charge_utile</th>\n",
       "      <th>mean_puis_kw</th>\n",
       "      <th>mean_co2_reel</th>\n",
       "      <th>mean_nb_decibels</th>\n",
       "      <th>Prix du véhicule</th>\n",
       "      <th>VOLUME</th>\n",
       "      <th>CO2_PRF</th>\n",
       "    </tr>\n",
       "  </thead>\n",
       "  <tbody>\n",
       "    <tr>\n",
       "      <th>count</th>\n",
       "      <td>39549.000000</td>\n",
       "      <td>39549.000000</td>\n",
       "      <td>39549.000000</td>\n",
       "      <td>39549.000000</td>\n",
       "      <td>39549.000000</td>\n",
       "      <td>39549.000000</td>\n",
       "      <td>39549.000000</td>\n",
       "      <td>39549.000000</td>\n",
       "      <td>39549.000000</td>\n",
       "      <td>39549.000000</td>\n",
       "    </tr>\n",
       "    <tr>\n",
       "      <th>mean</th>\n",
       "      <td>1626.548577</td>\n",
       "      <td>130.309693</td>\n",
       "      <td>3559.407031</td>\n",
       "      <td>592.092125</td>\n",
       "      <td>111.986209</td>\n",
       "      <td>154.535375</td>\n",
       "      <td>74.125434</td>\n",
       "      <td>39194.742269</td>\n",
       "      <td>34.497914</td>\n",
       "      <td>131.311487</td>\n",
       "    </tr>\n",
       "    <tr>\n",
       "      <th>std</th>\n",
       "      <td>464.653106</td>\n",
       "      <td>33.643105</td>\n",
       "      <td>775.139234</td>\n",
       "      <td>89.668620</td>\n",
       "      <td>40.426663</td>\n",
       "      <td>29.534750</td>\n",
       "      <td>3.708701</td>\n",
       "      <td>16394.487896</td>\n",
       "      <td>162.132949</td>\n",
       "      <td>34.722368</td>\n",
       "    </tr>\n",
       "    <tr>\n",
       "      <th>min</th>\n",
       "      <td>874.102052</td>\n",
       "      <td>0.000000</td>\n",
       "      <td>0.000000</td>\n",
       "      <td>224.074713</td>\n",
       "      <td>26.300000</td>\n",
       "      <td>0.000000</td>\n",
       "      <td>56.000000</td>\n",
       "      <td>8890.000000</td>\n",
       "      <td>1.000000</td>\n",
       "      <td>0.000000</td>\n",
       "    </tr>\n",
       "    <tr>\n",
       "      <th>25%</th>\n",
       "      <td>1332.000000</td>\n",
       "      <td>122.909563</td>\n",
       "      <td>2990.000000</td>\n",
       "      <td>540.735849</td>\n",
       "      <td>88.000000</td>\n",
       "      <td>142.348936</td>\n",
       "      <td>72.000000</td>\n",
       "      <td>28350.000000</td>\n",
       "      <td>1.000000</td>\n",
       "      <td>124.000000</td>\n",
       "    </tr>\n",
       "    <tr>\n",
       "      <th>50%</th>\n",
       "      <td>1499.000000</td>\n",
       "      <td>134.838150</td>\n",
       "      <td>3470.000000</td>\n",
       "      <td>575.000000</td>\n",
       "      <td>110.000000</td>\n",
       "      <td>155.775000</td>\n",
       "      <td>74.000000</td>\n",
       "      <td>36090.000000</td>\n",
       "      <td>4.000000</td>\n",
       "      <td>136.000000</td>\n",
       "    </tr>\n",
       "    <tr>\n",
       "      <th>75%</th>\n",
       "      <td>1968.000000</td>\n",
       "      <td>147.485714</td>\n",
       "      <td>3935.000000</td>\n",
       "      <td>615.840000</td>\n",
       "      <td>120.000000</td>\n",
       "      <td>168.852000</td>\n",
       "      <td>76.000000</td>\n",
       "      <td>45724.000000</td>\n",
       "      <td>14.000000</td>\n",
       "      <td>149.000000</td>\n",
       "    </tr>\n",
       "    <tr>\n",
       "      <th>max</th>\n",
       "      <td>5000.000000</td>\n",
       "      <td>373.000000</td>\n",
       "      <td>6850.000000</td>\n",
       "      <td>1243.000000</td>\n",
       "      <td>478.000000</td>\n",
       "      <td>405.892593</td>\n",
       "      <td>96.000000</td>\n",
       "      <td>205715.000000</td>\n",
       "      <td>6754.000000</td>\n",
       "      <td>373.000000</td>\n",
       "    </tr>\n",
       "  </tbody>\n",
       "</table>\n",
       "</div>"
      ],
      "text/plain": [
       "       mean_cylindree  mean_co2_theorique      mean_ptr  mean_charge_utile  \\\n",
       "count    39549.000000        39549.000000  39549.000000       39549.000000   \n",
       "mean      1626.548577          130.309693   3559.407031         592.092125   \n",
       "std        464.653106           33.643105    775.139234          89.668620   \n",
       "min        874.102052            0.000000      0.000000         224.074713   \n",
       "25%       1332.000000          122.909563   2990.000000         540.735849   \n",
       "50%       1499.000000          134.838150   3470.000000         575.000000   \n",
       "75%       1968.000000          147.485714   3935.000000         615.840000   \n",
       "max       5000.000000          373.000000   6850.000000        1243.000000   \n",
       "\n",
       "       mean_puis_kw  mean_co2_reel  mean_nb_decibels  Prix du véhicule  \\\n",
       "count  39549.000000   39549.000000      39549.000000      39549.000000   \n",
       "mean     111.986209     154.535375         74.125434      39194.742269   \n",
       "std       40.426663      29.534750          3.708701      16394.487896   \n",
       "min       26.300000       0.000000         56.000000       8890.000000   \n",
       "25%       88.000000     142.348936         72.000000      28350.000000   \n",
       "50%      110.000000     155.775000         74.000000      36090.000000   \n",
       "75%      120.000000     168.852000         76.000000      45724.000000   \n",
       "max      478.000000     405.892593         96.000000     205715.000000   \n",
       "\n",
       "             VOLUME       CO2_PRF  \n",
       "count  39549.000000  39549.000000  \n",
       "mean      34.497914    131.311487  \n",
       "std      162.132949     34.722368  \n",
       "min        1.000000      0.000000  \n",
       "25%        1.000000    124.000000  \n",
       "50%        4.000000    136.000000  \n",
       "75%       14.000000    149.000000  \n",
       "max     6754.000000    373.000000  "
      ]
     },
     "execution_count": 100,
     "metadata": {},
     "output_type": "execute_result"
    }
   ],
   "source": [
    "datap.dropna(inplace=True)\n",
    "datap.describe()"
   ]
  },
  {
   "cell_type": "code",
   "execution_count": null,
   "metadata": {
    "colab": {
     "base_uri": "https://localhost:8080/"
    },
    "executionInfo": {
     "elapsed": 262,
     "status": "ok",
     "timestamp": 1713420181349,
     "user": {
      "displayName": "Clément Malgouyres",
      "userId": "01026017214224131197"
     },
     "user_tz": -120
    },
    "id": "IT22NbPtwG9w",
    "outputId": "aaaf1bc6-b8f0-439f-a49e-e5e8b5bf19ef"
   },
   "outputs": [
    {
     "data": {
      "text/plain": [
       "Index(['mean_cylindree', 'mean_co2_theorique', 'mean_ptr', 'mean_charge_utile',\n",
       "       'mean_puis_kw', 'mean_co2_reel', 'energ', 'mean_nb_decibels',\n",
       "       'Prix du véhicule', 'Carrosserie', 'VOLUME', 'CO2_PRF'],\n",
       "      dtype='object')"
      ]
     },
     "execution_count": 101,
     "metadata": {},
     "output_type": "execute_result"
    }
   ],
   "source": [
    "datap.columns"
   ]
  },
  {
   "cell_type": "code",
   "execution_count": null,
   "metadata": {
    "colab": {
     "base_uri": "https://localhost:8080/"
    },
    "executionInfo": {
     "elapsed": 216,
     "status": "ok",
     "timestamp": 1713420187320,
     "user": {
      "displayName": "Clément Malgouyres",
      "userId": "01026017214224131197"
     },
     "user_tz": -120
    },
    "id": "B4PVXtD4wG9w",
    "outputId": "ec5bf296-1829-44d6-edd5-b491b043000e"
   },
   "outputs": [
    {
     "data": {
      "text/plain": [
       "array(['ES', 'GO', 'FE', 'EE', 'EH', 'GH', 'EL', 'GN', 'GL', 'EG', 'FH',\n",
       "       'EN'], dtype=object)"
      ]
     },
     "execution_count": 102,
     "metadata": {},
     "output_type": "execute_result"
    }
   ],
   "source": [
    "datap['energ'].unique()"
   ]
  },
  {
   "cell_type": "code",
   "execution_count": null,
   "metadata": {
    "executionInfo": {
     "elapsed": 237,
     "status": "ok",
     "timestamp": 1713420197735,
     "user": {
      "displayName": "Clément Malgouyres",
      "userId": "01026017214224131197"
     },
     "user_tz": -120
    },
    "id": "38GSDcQPwG9w"
   },
   "outputs": [],
   "source": [
    "emissions_theoriques = 0\n",
    "emissions_reelles = 0\n",
    "ventes_totales = 0\n",
    "valeurs_colonne_co2_reel = datap['mean_co2_reel']\n",
    "valeurs_colonne_co2_theorique = datap['mean_co2_theorique']\n",
    "valeurs_colonne_ventes = datap['VOLUME']"
   ]
  },
  {
   "cell_type": "code",
   "execution_count": null,
   "metadata": {
    "colab": {
     "base_uri": "https://localhost:8080/"
    },
    "executionInfo": {
     "elapsed": 2,
     "status": "ok",
     "timestamp": 1713420200125,
     "user": {
      "displayName": "Clément Malgouyres",
      "userId": "01026017214224131197"
     },
     "user_tz": -120
    },
    "id": "ZTtirZT6wG9w",
    "outputId": "634a544c-629e-41df-b8bb-8baa03787d0f"
   },
   "outputs": [
    {
     "data": {
      "text/plain": [
       "141.41995121496478"
      ]
     },
     "execution_count": 104,
     "metadata": {},
     "output_type": "execute_result"
    }
   ],
   "source": [
    "np.sum(valeurs_colonne_ventes*valeurs_colonne_co2_reel)/np.sum(valeurs_colonne_ventes)"
   ]
  },
  {
   "cell_type": "code",
   "execution_count": null,
   "metadata": {
    "colab": {
     "base_uri": "https://localhost:8080/"
    },
    "executionInfo": {
     "elapsed": 207,
     "status": "ok",
     "timestamp": 1713420267223,
     "user": {
      "displayName": "Clément Malgouyres",
      "userId": "01026017214224131197"
     },
     "user_tz": -120
    },
    "id": "AgkCcz5cwG9w",
    "outputId": "ef955f51-448a-4f46-a2af-1cbc15ed619e"
   },
   "outputs": [
    {
     "data": {
      "text/plain": [
       "119.14878070141394"
      ]
     },
     "execution_count": 105,
     "metadata": {},
     "output_type": "execute_result"
    }
   ],
   "source": [
    "np.sum(valeurs_colonne_ventes*datap['mean_co2_theorique'])/np.sum(valeurs_colonne_ventes)"
   ]
  },
  {
   "cell_type": "markdown",
   "metadata": {},
   "source": [
    "## graphe joli"
   ]
  },
  {
   "cell_type": "code",
   "execution_count": null,
   "metadata": {},
   "outputs": [
    {
     "data": {
      "image/png": "[encoded data removed]",
      "text/plain": [
       "<Figure size 1400x700 with 1 Axes>"
      ]
     },
     "metadata": {},
     "output_type": "display_data"
    }
   ],
   "source": [
    "data_co2=datap\n",
    "\n",
    "data_co2['error_percentage'] = (data_co2['mean_co2_reel'] - data_co2['mean_co2_theorique'])/data_co2['mean_co2_theorique'] * 100\n",
    "data_co2['error_percentage'].mean() \n",
    "\n",
    "volume_percentage_error=data_co2.groupby('error_percentage')['VOLUME'].sum()\n",
    "\n",
    "# 'N' représente le nombre de véhicules vendus dans la DataFrame data_CO2\n",
    "volume_percentage_error = data_co2.groupby('error_percentage')['VOLUME'].sum()\n",
    "\n",
    "# Définition de la fonction gaussienne pour le fit\n",
    "def gauss_function(x, a, x0, sigma):\n",
    "    return a * np.exp(-(x - x0)**2 / (2 * sigma**2))\n",
    "\n",
    "# Utiliser les données de votre DataFrame\n",
    "x = volume_percentage_error.index\n",
    "y = volume_percentage_error.values\n",
    "\n",
    "plt.figure(figsize=(14, 7))\n",
    "\n",
    "# Tracer les données\n",
    "plt.plot(volume_percentage_error.index, volume_percentage_error.values, color='teal', label='Nombre de véhicules associés au pourcentage d\\'erreur')\n",
    "plt.legend()\n",
    "# Tracer la gaussienne ajustée\n",
    "x0=data_co2['error_percentage'].mean() -12\n",
    "sigma=data_co2['error_percentage'].std() *0.2\n",
    "a=12000\n",
    "plt.plot(x, gauss_function(x, a, x0, sigma), 'r--', label='Ajustement gaussien')\n",
    "plt.legend()\n",
    "plt.plot()\n",
    "plt.xlabel('Pourcentage d\\'erreur = (CO2 reel - CO2 theorique) / CO2 theorique * 100 ')\n",
    "plt.ylabel('Nombre de véhicules')\n",
    "plt.title('Distribution de l\\'erreur entre CO2 théorique et le CO2 réel')\n",
    "plt.show()\n"
   ]
  },
  {
   "cell_type": "markdown",
   "metadata": {},
   "source": [
    "## Lien entre caractéristiques et émission de CO2"
   ]
  },
  {
   "cell_type": "markdown",
   "metadata": {},
   "source": [
    "## Energie"
   ]
  },
  {
   "cell_type": "code",
   "execution_count": null,
   "metadata": {},
   "outputs": [],
   "source": [
    "print(datap.columns)\n",
    "#tableau liste_energ\n",
    "liste_energ = ['ES', 'GO', 'FE', 'EE', 'EH', 'GH', 'EL', 'GN', 'GL', 'EG', 'FH','EN']\n",
    "\n",
    "nb_vehicules=datap['VOLUME'].sum()\n",
    "datap.groupby('energ')['VOLUME'].sum() / nb_vehicules * 100\n",
    "\n",
    "nb_vehicules=datap.groupby('energ')['VOLUME'].sum()\n",
    "\n",
    "co2foisVolume = datap.groupby('energ').apply(lambda x: (x['mean_co2_theorique'] * x['VOLUME']).sum())\n",
    "\n",
    "print(\"\\nCO2 théorique par energie\")\n",
    "co2th = co2foisVolume / nb_vehicules\n",
    "print(co2th)\n",
    "\n",
    "print(\"\\nCO2 réel par energie\")\n",
    "co2foisVolume = datap.groupby('energ').apply(lambda x: (x['mean_co2_reel'] * x['VOLUME']).sum())\n",
    "co2re = co2foisVolume / nb_vehicules\n",
    "print(co2re)\n",
    "\n",
    "print(\"\\nErreur\")\n",
    "print((co2re - co2th)/co2th * 100)"
   ]
  },
  {
   "cell_type": "markdown",
   "metadata": {},
   "source": [
    "## Carrosserie"
   ]
  },
  {
   "cell_type": "code",
   "execution_count": null,
   "metadata": {},
   "outputs": [],
   "source": [
    "#tablau liste carroserie\n",
    "\n",
    "liste_carroserie = ['BERLINE', 'TS TERRAINS/CHEMINS', 'BREAK',\n",
    "       'MINIBUS', 'MONOSPACE COMPACT', 'COMBISPACE', 'COUPE', 'MONOSPACE',\n",
    "       'MINISPACE', 'CABRIOLET']\n",
    "nb_vehicules=datap['VOLUME'].sum()\n",
    "datap.groupby('Carrosserie')['VOLUME'].sum() / nb_vehicules * 100\n",
    "nb_vehicules=datap.groupby('Carrosserie')['VOLUME'].sum()\n",
    "\n",
    "co2foisVolume = datap.groupby('Carrosserie').apply(lambda x: (x['mean_co2_theorique'] * x['VOLUME']).sum())\n",
    "\n",
    "print(\"\\nCO2 théorique par Carrosserie\")\n",
    "co2th = co2foisVolume / nb_vehicules\n",
    "print(co2th)\n",
    "print(\"\\nCO2 réel par Carrosserie\")\n",
    "co2foisVolume = datap.groupby('Carrosserie').apply(lambda x: (x['mean_co2_reel'] * x['VOLUME']).sum())\n",
    "co2re = co2foisVolume / nb_vehicules\n",
    "print(co2re)\n",
    "\n",
    "print(\"\\nErreur\")\n",
    "print((co2re - co2th)/co2th * 100)"
   ]
  },
  {
   "cell_type": "markdown",
   "metadata": {
    "id": "Ap1mE2LiwG9w"
   },
   "source": [
    "## 2. Estimation du CO2 réel avec le machine learning"
   ]
  },
  {
   "cell_type": "code",
   "execution_count": null,
   "metadata": {
    "colab": {
     "base_uri": "https://localhost:8080/"
    },
    "executionInfo": {
     "elapsed": 251,
     "status": "ok",
     "timestamp": 1713419901300,
     "user": {
      "displayName": "Clément Malgouyres",
      "userId": "01026017214224131197"
     },
     "user_tz": -120
    },
    "id": "g3nETPEhwG9x",
    "outputId": "2eb757af-d1e7-4913-b753-26d0b4265c2e"
   },
   "outputs": [
    {
     "name": "stderr",
     "output_type": "stream",
     "text": [
      "/tmp/ipykernel_277/1175417484.py:25: FutureWarning: In a future version, `df.iloc[:, i] = newvals` will attempt to set the values inplace instead of always setting a new array. To retain the old behavior, use either `df[df.columns[i]] = newvals` or, if columns are non-unique, `df.isetitem(i, newvals)`\n",
      "  dataToNormalize.loc[:,col]=scaler.fit_transform(dataToNormalize.loc[:,col].values.reshape(-1,1))\n"
     ]
    },
    {
     "name": "stdout",
     "output_type": "stream",
     "text": [
      "RMSE_model = 9.255\n",
      "R2_score_model = 0.902\n"
     ]
    }
   ],
   "source": [
    "y=datap['mean_co2_reel']\n",
    "dataOG=new_data['mean_co2_theorique']\n",
    "dataEtat=datap['mean_co2_theorique']\n",
    "\n",
    "for col in list(datap['energ'].unique()):\n",
    "    datap[col]=(datap['energ']==col)*1\n",
    "\n",
    "for col in list(datap['Carrosserie'].unique()):\n",
    "    datap[col]=(datap['Carrosserie']==col)*1\n",
    "\n",
    "datap_train = datap.loc[-datap['energ'].isin(['EL'])] # sans éléctrique\n",
    "\n",
    "datap_train=datap_train.drop('energ', axis=1)\n",
    "datap_train=datap_train.drop('Carrosserie', axis=1)\n",
    "datap=datap.drop('energ', axis=1)\n",
    "datap=datap.drop('Carrosserie', axis=1)\n",
    "y_sel = datap_train['mean_co2_reel']\n",
    "datap_train=datap_train.drop(['mean_co2_reel', 'VOLUME', 'Prix du véhicule', ], axis=1)\n",
    "datas=datap.drop(['mean_co2_reel', 'VOLUME', 'Prix du véhicule'], axis=1)\n",
    "\n",
    "def normalization(dataToNormalize):\n",
    "    columns=list(dataToNormalize.columns) # liste colonnes\n",
    "    scaler=preprocessing.StandardScaler()\n",
    "    for col in columns:\n",
    "        dataToNormalize.loc[:,col]=scaler.fit_transform(dataToNormalize.loc[:,col].values.reshape(-1,1))\n",
    "\n",
    "\n",
    "normalization(datap_train)\n",
    "normalization(datas)\n",
    "\n",
    "x_train, x_test, y_train, y_test = train_test_split(datap_train, y_sel, test_size=0.2)\n",
    "lasso_model = Lasso(alpha=0.2)\n",
    "lasso_model.fit(x_train, y_train)\n",
    "test_predictions_lasso = lasso_model.predict(x_test)\n",
    "\n",
    "print(f\"RMSE_model = {round(sqrt(mean_squared_error(y_test,test_predictions_lasso)),3)}\")\n",
    "\n",
    "print(f\"R2_score_model = {round(r2_score(y_test, test_predictions_lasso),3)}\")\n",
    "\n",
    "datap['CO2reel'] = lasso_model.predict(datas)\n",
    "\n",
    "datap.loc[datap['EL']==1, 'CO2reel']=0\n",
    "\n",
    "CO2reel=datap['CO2reel']"
   ]
  },
  {
   "cell_type": "markdown",
   "metadata": {
    "id": "642USXAZwG9x"
   },
   "source": [
    "## 3. Code du Malus 2021 et 2024"
   ]
  },
  {
   "cell_type": "markdown",
   "metadata": {
    "id": "BOaXLT4bwG9x"
   },
   "source": [
    "### Malus 2021"
   ]
  },
  {
   "cell_type": "code",
   "execution_count": null,
   "metadata": {
    "executionInfo": {
     "elapsed": 2,
     "status": "ok",
     "timestamp": 1713419901300,
     "user": {
      "displayName": "Clément Malgouyres",
      "userId": "01026017214224131197"
     },
     "user_tz": -120
    },
    "id": "mHPBkQ6IFny_"
   },
   "outputs": [],
   "source": [
    "file_path = '/content/gdrive/MyDrive/psc/malus_2021.xlsx'"
   ]
  },
  {
   "cell_type": "code",
   "execution_count": null,
   "metadata": {
    "executionInfo": {
     "elapsed": 3,
     "status": "ok",
     "timestamp": 1713419901301,
     "user": {
      "displayName": "Clément Malgouyres",
      "userId": "01026017214224131197"
     },
     "user_tz": -120
    },
    "id": "QzfRRchKwG9x"
   },
   "outputs": [],
   "source": [
    "#malus_2021_df = pd.read_excel('/content/gdrive/MyDrive/psc/malus_2021.xlsx')\n",
    "malus_2021_df = pd.read_excel('malus_2021.xlsx')\n",
    "malus_2021_df.rename(columns={\"Taux d'émission de CO2 par kilomètre\": \"CO2\"}, inplace=True)\n",
    "\n",
    "def malus_etat_2021(c):\n",
    "    if int(c)<=132:\n",
    "        return 0\n",
    "    if int(c)>=219:\n",
    "        return 30000\n",
    "    else:\n",
    "        return int( malus_2021_df.loc[malus_2021_df['CO2'] == int(c)]['Montant'])"
   ]
  },
  {
   "cell_type": "code",
   "execution_count": null,
   "metadata": {
    "colab": {
     "base_uri": "https://localhost:8080/"
    },
    "executionInfo": {
     "elapsed": 12841,
     "status": "ok",
     "timestamp": 1713420366314,
     "user": {
      "displayName": "Clément Malgouyres",
      "userId": "01026017214224131197"
     },
     "user_tz": -120
    },
    "id": "EFQuihHfwG9x",
    "outputId": "a7c67f32-3cbf-4943-9f79-4cdc3361f386"
   },
   "outputs": [],
   "source": [
    "datap['malus_2021'] = pd.to_numeric(datap['mean_co2_theorique'].apply(malus_etat_2021), errors='coerce')"
   ]
  },
  {
   "cell_type": "code",
   "execution_count": null,
   "metadata": {
    "id": "feCdDEgWFzq4"
   },
   "outputs": [],
   "source": [
    "datap['malus_2021_reel'] = pd.to_numeric(datap['mean_co2_reel'].apply(malus_etat_2021), errors='coerce')"
   ]
  },
  {
   "cell_type": "markdown",
   "metadata": {
    "id": "z29VsMx3wG9x"
   },
   "source": [
    "### Malus 2024"
   ]
  },
  {
   "cell_type": "code",
   "execution_count": null,
   "metadata": {
    "colab": {
     "base_uri": "https://localhost:8080/",
     "height": 365
    },
    "executionInfo": {
     "elapsed": 13,
     "status": "error",
     "timestamp": 1713417967039,
     "user": {
      "displayName": "Clément Malgouyres",
      "userId": "01026017214224131197"
     },
     "user_tz": -120
    },
    "id": "f1PPCZVLwG9x",
    "outputId": "2e7f31b9-efb6-4f0d-fbc5-9b20e0e593f5"
   },
   "outputs": [],
   "source": [
    "malus_2024_df = pd.read_excel('malus_2024.xlsx')\n",
    "\n",
    "# https://www.service-public.fr/particuliers/vosdroits/F35947\n",
    "\n",
    "malus_2024_df.rename(columns={\"Taux d'émission de CO2 par kilomètre\": \"CO2\"}, inplace=True) # colonnes ['CO2', 'Montant']\n",
    "\n",
    "def malus_etat_2024(c):\n",
    "    if int(c)<=117:\n",
    "        return 0\n",
    "    elif int(c)>=193:\n",
    "        return 60000\n",
    "    else:\n",
    "        return int (malus_2024_df.loc[malus_2024_df['CO2'] == str(int(c))+' g']['Montant'])"
   ]
  },
  {
   "cell_type": "code",
   "execution_count": null,
   "metadata": {
    "id": "8_gaaz-IwG9x"
   },
   "outputs": [],
   "source": [
    "datap['malus_2024'] = pd.to_numeric(datap['mean_co2_theorique'].apply(malus_etat_2024), errors='coerce')"
   ]
  },
  {
   "cell_type": "code",
   "execution_count": null,
   "metadata": {},
   "outputs": [],
   "source": [
    "datap['malus_2024_reel'] = pd.to_numeric(datap['mean_co2_reel'].apply(malus_etat_2024), errors='coerce')"
   ]
  },
  {
   "cell_type": "markdown",
   "metadata": {
    "id": "LqEOooFdwG9x"
   },
   "source": [
    "## 3. Calcul du parametre delta calibrant notre modele logit de consommation"
   ]
  },
  {
   "cell_type": "code",
   "execution_count": null,
   "metadata": {
    "executionInfo": {
     "elapsed": 217,
     "status": "ok",
     "timestamp": 1713420371205,
     "user": {
      "displayName": "Clément Malgouyres",
      "userId": "01026017214224131197"
     },
     "user_tz": -120
    },
    "id": "ZAB1RPRawG9x"
   },
   "outputs": [],
   "source": [
    "p2021 = datap['Prix du véhicule'] + datap['malus_2021']\n",
    "\n",
    "quantite = datap['VOLUME']"
   ]
  },
  {
   "cell_type": "code",
   "execution_count": null,
   "metadata": {
    "colab": {
     "base_uri": "https://localhost:8080/"
    },
    "executionInfo": {
     "elapsed": 220,
     "status": "ok",
     "timestamp": 1713420374058,
     "user": {
      "displayName": "Clément Malgouyres",
      "userId": "01026017214224131197"
     },
     "user_tz": -120
    },
    "id": "Arq88H1swG9x",
    "outputId": "1115ffe2-2e1c-43c4-dcd0-93337a38f497"
   },
   "outputs": [
    {
     "data": {
      "text/plain": [
       "count    39549.000000\n",
       "mean        34.497914\n",
       "std        162.132949\n",
       "min          1.000000\n",
       "25%          1.000000\n",
       "50%          4.000000\n",
       "75%         14.000000\n",
       "max       6754.000000\n",
       "Name: VOLUME, dtype: float64"
      ]
     },
     "execution_count": 28,
     "metadata": {},
     "output_type": "execute_result"
    }
   ],
   "source": [
    "quantite.describe()"
   ]
  },
  {
   "cell_type": "code",
   "execution_count": null,
   "metadata": {
    "executionInfo": {
     "elapsed": 321,
     "status": "ok",
     "timestamp": 1713421346997,
     "user": {
      "displayName": "Clément Malgouyres",
      "userId": "01026017214224131197"
     },
     "user_tz": -120
    },
    "id": "JlchFAPnwG9x"
   },
   "outputs": [],
   "source": [
    "beta = -0.00015\n",
    "delta = beta*(p2021.iloc[len(p2021)-1]-p2021)+np.log(quantite/(quantite.iloc[len(quantite)-1]))"
   ]
  },
  {
   "cell_type": "code",
   "execution_count": null,
   "metadata": {
    "executionInfo": {
     "elapsed": 275,
     "status": "ok",
     "timestamp": 1713421350036,
     "user": {
      "displayName": "Clément Malgouyres",
      "userId": "01026017214224131197"
     },
     "user_tz": -120
    },
    "id": "cYymEaLwwG9x"
   },
   "outputs": [],
   "source": [
    "datap['delta_modele'] = delta"
   ]
  },
  {
   "cell_type": "code",
   "execution_count": null,
   "metadata": {
    "colab": {
     "base_uri": "https://localhost:8080/",
     "height": 472
    },
    "executionInfo": {
     "elapsed": 281,
     "status": "ok",
     "timestamp": 1713421351451,
     "user": {
      "displayName": "Clément Malgouyres",
      "userId": "01026017214224131197"
     },
     "user_tz": -120
    },
    "id": "DHuhC-ayG8R1",
    "outputId": "a3171d6e-2bfb-4416-9807-ea97de010b64"
   },
   "outputs": [
    {
     "data": {
      "image/png": "[encoded data removed]",
      "text/plain": [
       "<Figure size 640x480 with 1 Axes>"
      ]
     },
     "metadata": {},
     "output_type": "display_data"
    }
   ],
   "source": [
    "# Assuming 'data' is your DataFrame and 'column_name' is the name of the column you want to plot\n",
    "plt.hist(datap['delta_modele'], bins=50, color='blue', edgecolor='black')  # You can adjust the number of bins and color\n",
    "plt.title('Histogram of deltas')\n",
    "plt.xlabel('Values')\n",
    "plt.ylabel('Frequency')\n",
    "plt.show()\n"
   ]
  },
  {
   "cell_type": "code",
   "execution_count": null,
   "metadata": {
    "colab": {
     "base_uri": "https://localhost:8080/"
    },
    "executionInfo": {
     "elapsed": 241,
     "status": "ok",
     "timestamp": 1713417987556,
     "user": {
      "displayName": "Clément Malgouyres",
      "userId": "01026017214224131197"
     },
     "user_tz": -120
    },
    "id": "RXN3aPpiwG9y",
    "outputId": "bb7f3662-c3ad-4747-da61-8d81bfe35019"
   },
   "outputs": [
    {
     "data": {
      "text/plain": [
       "Index(['mean_cylindree', 'mean_co2_theorique', 'mean_ptr', 'mean_charge_utile',\n",
       "       'mean_puis_kw', 'mean_co2_reel', 'mean_nb_decibels', 'Prix du véhicule',\n",
       "       'VOLUME', 'CO2_PRF', 'ES', 'GO', 'FE', 'EE', 'EH', 'GH', 'EL', 'GN',\n",
       "       'GL', 'EG', 'FH', 'EN', 'BERLINE', 'TS TERRAINS/CHEMINS', 'BREAK',\n",
       "       'MINIBUS', 'MONOSPACE COMPACT', 'COMBISPACE', 'COUPE', 'MONOSPACE',\n",
       "       'MINISPACE', 'CABRIOLET', 'CO2reel', 'malus_2021', 'malus_2021_reel',\n",
       "       'malus_2024', 'malus_2024_reel', 'delta_modele'],\n",
       "      dtype='object')"
      ]
     },
     "execution_count": 32,
     "metadata": {},
     "output_type": "execute_result"
    }
   ],
   "source": [
    "datap.columns"
   ]
  },
  {
   "cell_type": "code",
   "execution_count": null,
   "metadata": {
    "id": "6hlMHBQIwG9y"
   },
   "outputs": [
    {
     "data": {
      "text/html": [
       "<div>\n",
       "<style scoped>\n",
       "    .dataframe tbody tr th:only-of-type {\n",
       "        vertical-align: middle;\n",
       "    }\n",
       "\n",
       "    .dataframe tbody tr th {\n",
       "        vertical-align: top;\n",
       "    }\n",
       "\n",
       "    .dataframe thead th {\n",
       "        text-align: right;\n",
       "    }\n",
       "</style>\n",
       "<table border=\"1\" class=\"dataframe\">\n",
       "  <thead>\n",
       "    <tr style=\"text-align: right;\">\n",
       "      <th></th>\n",
       "      <th>mean_cylindree</th>\n",
       "      <th>mean_co2_theorique</th>\n",
       "      <th>mean_ptr</th>\n",
       "      <th>mean_charge_utile</th>\n",
       "      <th>mean_puis_kw</th>\n",
       "      <th>mean_co2_reel</th>\n",
       "      <th>mean_nb_decibels</th>\n",
       "      <th>Prix du véhicule</th>\n",
       "      <th>VOLUME</th>\n",
       "      <th>CO2_PRF</th>\n",
       "      <th>...</th>\n",
       "      <th>COUPE</th>\n",
       "      <th>MONOSPACE</th>\n",
       "      <th>MINISPACE</th>\n",
       "      <th>CABRIOLET</th>\n",
       "      <th>CO2reel</th>\n",
       "      <th>malus_2021</th>\n",
       "      <th>malus_2021_reel</th>\n",
       "      <th>malus_2024</th>\n",
       "      <th>malus_2024_reel</th>\n",
       "      <th>delta_modele</th>\n",
       "    </tr>\n",
       "  </thead>\n",
       "  <tbody>\n",
       "    <tr>\n",
       "      <th>0</th>\n",
       "      <td>4806.000000</td>\n",
       "      <td>286.000000</td>\n",
       "      <td>4700.0</td>\n",
       "      <td>530.000000</td>\n",
       "      <td>368.00000</td>\n",
       "      <td>358.498030</td>\n",
       "      <td>77.0</td>\n",
       "      <td>142807.0</td>\n",
       "      <td>1</td>\n",
       "      <td>286</td>\n",
       "      <td>...</td>\n",
       "      <td>0</td>\n",
       "      <td>0</td>\n",
       "      <td>0</td>\n",
       "      <td>0</td>\n",
       "      <td>331.491628</td>\n",
       "      <td>30000</td>\n",
       "      <td>30000</td>\n",
       "      <td>60000</td>\n",
       "      <td>60000</td>\n",
       "      <td>21.642903</td>\n",
       "    </tr>\n",
       "    <tr>\n",
       "      <th>1</th>\n",
       "      <td>1598.000000</td>\n",
       "      <td>147.000000</td>\n",
       "      <td>2895.0</td>\n",
       "      <td>455.628490</td>\n",
       "      <td>86.00000</td>\n",
       "      <td>181.021890</td>\n",
       "      <td>72.0</td>\n",
       "      <td>25254.0</td>\n",
       "      <td>1</td>\n",
       "      <td>147</td>\n",
       "      <td>...</td>\n",
       "      <td>0</td>\n",
       "      <td>0</td>\n",
       "      <td>0</td>\n",
       "      <td>0</td>\n",
       "      <td>164.551953</td>\n",
       "      <td>360</td>\n",
       "      <td>6039</td>\n",
       "      <td>1761</td>\n",
       "      <td>24291</td>\n",
       "      <td>-0.436047</td>\n",
       "    </tr>\n",
       "    <tr>\n",
       "      <th>3</th>\n",
       "      <td>1582.000000</td>\n",
       "      <td>108.000000</td>\n",
       "      <td>3420.0</td>\n",
       "      <td>560.456938</td>\n",
       "      <td>81.00000</td>\n",
       "      <td>151.611933</td>\n",
       "      <td>77.0</td>\n",
       "      <td>23905.0</td>\n",
       "      <td>1</td>\n",
       "      <td>108</td>\n",
       "      <td>...</td>\n",
       "      <td>0</td>\n",
       "      <td>0</td>\n",
       "      <td>0</td>\n",
       "      <td>0</td>\n",
       "      <td>125.806650</td>\n",
       "      <td>0</td>\n",
       "      <td>650</td>\n",
       "      <td>0</td>\n",
       "      <td>2370</td>\n",
       "      <td>-0.692397</td>\n",
       "    </tr>\n",
       "    <tr>\n",
       "      <th>7</th>\n",
       "      <td>1560.000000</td>\n",
       "      <td>100.000000</td>\n",
       "      <td>3160.0</td>\n",
       "      <td>569.984985</td>\n",
       "      <td>88.00000</td>\n",
       "      <td>140.958233</td>\n",
       "      <td>72.0</td>\n",
       "      <td>30371.0</td>\n",
       "      <td>1</td>\n",
       "      <td>100</td>\n",
       "      <td>...</td>\n",
       "      <td>0</td>\n",
       "      <td>0</td>\n",
       "      <td>0</td>\n",
       "      <td>0</td>\n",
       "      <td>121.142370</td>\n",
       "      <td>0</td>\n",
       "      <td>210</td>\n",
       "      <td>0</td>\n",
       "      <td>983</td>\n",
       "      <td>0.277503</td>\n",
       "    </tr>\n",
       "    <tr>\n",
       "      <th>9</th>\n",
       "      <td>1198.981607</td>\n",
       "      <td>104.000000</td>\n",
       "      <td>2366.0</td>\n",
       "      <td>570.998824</td>\n",
       "      <td>59.99908</td>\n",
       "      <td>149.158444</td>\n",
       "      <td>76.0</td>\n",
       "      <td>17736.0</td>\n",
       "      <td>1</td>\n",
       "      <td>104</td>\n",
       "      <td>...</td>\n",
       "      <td>0</td>\n",
       "      <td>0</td>\n",
       "      <td>0</td>\n",
       "      <td>0</td>\n",
       "      <td>127.419034</td>\n",
       "      <td>0</td>\n",
       "      <td>450</td>\n",
       "      <td>0</td>\n",
       "      <td>2049</td>\n",
       "      <td>-1.617747</td>\n",
       "    </tr>\n",
       "    <tr>\n",
       "      <th>...</th>\n",
       "      <td>...</td>\n",
       "      <td>...</td>\n",
       "      <td>...</td>\n",
       "      <td>...</td>\n",
       "      <td>...</td>\n",
       "      <td>...</td>\n",
       "      <td>...</td>\n",
       "      <td>...</td>\n",
       "      <td>...</td>\n",
       "      <td>...</td>\n",
       "      <td>...</td>\n",
       "      <td>...</td>\n",
       "      <td>...</td>\n",
       "      <td>...</td>\n",
       "      <td>...</td>\n",
       "      <td>...</td>\n",
       "      <td>...</td>\n",
       "      <td>...</td>\n",
       "      <td>...</td>\n",
       "      <td>...</td>\n",
       "      <td>...</td>\n",
       "    </tr>\n",
       "    <tr>\n",
       "      <th>54157</th>\n",
       "      <td>998.000000</td>\n",
       "      <td>127.086957</td>\n",
       "      <td>2830.0</td>\n",
       "      <td>530.000000</td>\n",
       "      <td>88.30000</td>\n",
       "      <td>152.752174</td>\n",
       "      <td>72.0</td>\n",
       "      <td>29733.0</td>\n",
       "      <td>18</td>\n",
       "      <td>127</td>\n",
       "      <td>...</td>\n",
       "      <td>0</td>\n",
       "      <td>0</td>\n",
       "      <td>0</td>\n",
       "      <td>0</td>\n",
       "      <td>149.969020</td>\n",
       "      <td>0</td>\n",
       "      <td>740</td>\n",
       "      <td>240</td>\n",
       "      <td>2544</td>\n",
       "      <td>3.072175</td>\n",
       "    </tr>\n",
       "    <tr>\n",
       "      <th>54158</th>\n",
       "      <td>998.000000</td>\n",
       "      <td>127.086957</td>\n",
       "      <td>2830.0</td>\n",
       "      <td>530.000000</td>\n",
       "      <td>88.30000</td>\n",
       "      <td>152.752174</td>\n",
       "      <td>72.0</td>\n",
       "      <td>29933.0</td>\n",
       "      <td>1</td>\n",
       "      <td>127</td>\n",
       "      <td>...</td>\n",
       "      <td>0</td>\n",
       "      <td>0</td>\n",
       "      <td>0</td>\n",
       "      <td>0</td>\n",
       "      <td>149.969020</td>\n",
       "      <td>0</td>\n",
       "      <td>740</td>\n",
       "      <td>240</td>\n",
       "      <td>2544</td>\n",
       "      <td>0.211803</td>\n",
       "    </tr>\n",
       "    <tr>\n",
       "      <th>54202</th>\n",
       "      <td>999.000000</td>\n",
       "      <td>126.750000</td>\n",
       "      <td>2690.0</td>\n",
       "      <td>499.750000</td>\n",
       "      <td>91.90000</td>\n",
       "      <td>139.100000</td>\n",
       "      <td>72.0</td>\n",
       "      <td>22825.0</td>\n",
       "      <td>5</td>\n",
       "      <td>126</td>\n",
       "      <td>...</td>\n",
       "      <td>0</td>\n",
       "      <td>0</td>\n",
       "      <td>0</td>\n",
       "      <td>0</td>\n",
       "      <td>149.954037</td>\n",
       "      <td>0</td>\n",
       "      <td>190</td>\n",
       "      <td>230</td>\n",
       "      <td>898</td>\n",
       "      <td>0.755041</td>\n",
       "    </tr>\n",
       "    <tr>\n",
       "      <th>54203</th>\n",
       "      <td>999.000000</td>\n",
       "      <td>126.750000</td>\n",
       "      <td>2690.0</td>\n",
       "      <td>499.750000</td>\n",
       "      <td>91.90000</td>\n",
       "      <td>139.100000</td>\n",
       "      <td>72.0</td>\n",
       "      <td>22825.0</td>\n",
       "      <td>21</td>\n",
       "      <td>127</td>\n",
       "      <td>...</td>\n",
       "      <td>0</td>\n",
       "      <td>0</td>\n",
       "      <td>0</td>\n",
       "      <td>0</td>\n",
       "      <td>150.115313</td>\n",
       "      <td>0</td>\n",
       "      <td>190</td>\n",
       "      <td>230</td>\n",
       "      <td>898</td>\n",
       "      <td>2.190125</td>\n",
       "    </tr>\n",
       "    <tr>\n",
       "      <th>54204</th>\n",
       "      <td>999.000000</td>\n",
       "      <td>126.750000</td>\n",
       "      <td>2690.0</td>\n",
       "      <td>499.750000</td>\n",
       "      <td>91.90000</td>\n",
       "      <td>139.100000</td>\n",
       "      <td>72.0</td>\n",
       "      <td>23900.0</td>\n",
       "      <td>2</td>\n",
       "      <td>126</td>\n",
       "      <td>...</td>\n",
       "      <td>0</td>\n",
       "      <td>0</td>\n",
       "      <td>0</td>\n",
       "      <td>0</td>\n",
       "      <td>149.954037</td>\n",
       "      <td>0</td>\n",
       "      <td>190</td>\n",
       "      <td>230</td>\n",
       "      <td>898</td>\n",
       "      <td>0.000000</td>\n",
       "    </tr>\n",
       "  </tbody>\n",
       "</table>\n",
       "<p>39549 rows × 38 columns</p>\n",
       "</div>"
      ],
      "text/plain": [
       "       mean_cylindree  mean_co2_theorique  mean_ptr  mean_charge_utile  \\\n",
       "0         4806.000000          286.000000    4700.0         530.000000   \n",
       "1         1598.000000          147.000000    2895.0         455.628490   \n",
       "3         1582.000000          108.000000    3420.0         560.456938   \n",
       "7         1560.000000          100.000000    3160.0         569.984985   \n",
       "9         1198.981607          104.000000    2366.0         570.998824   \n",
       "...               ...                 ...       ...                ...   \n",
       "54157      998.000000          127.086957    2830.0         530.000000   \n",
       "54158      998.000000          127.086957    2830.0         530.000000   \n",
       "54202      999.000000          126.750000    2690.0         499.750000   \n",
       "54203      999.000000          126.750000    2690.0         499.750000   \n",
       "54204      999.000000          126.750000    2690.0         499.750000   \n",
       "\n",
       "       mean_puis_kw  mean_co2_reel  mean_nb_decibels  Prix du véhicule  \\\n",
       "0         368.00000     358.498030              77.0          142807.0   \n",
       "1          86.00000     181.021890              72.0           25254.0   \n",
       "3          81.00000     151.611933              77.0           23905.0   \n",
       "7          88.00000     140.958233              72.0           30371.0   \n",
       "9          59.99908     149.158444              76.0           17736.0   \n",
       "...             ...            ...               ...               ...   \n",
       "54157      88.30000     152.752174              72.0           29733.0   \n",
       "54158      88.30000     152.752174              72.0           29933.0   \n",
       "54202      91.90000     139.100000              72.0           22825.0   \n",
       "54203      91.90000     139.100000              72.0           22825.0   \n",
       "54204      91.90000     139.100000              72.0           23900.0   \n",
       "\n",
       "       VOLUME  CO2_PRF  ...  COUPE  MONOSPACE  MINISPACE  CABRIOLET  \\\n",
       "0           1      286  ...      0          0          0          0   \n",
       "1           1      147  ...      0          0          0          0   \n",
       "3           1      108  ...      0          0          0          0   \n",
       "7           1      100  ...      0          0          0          0   \n",
       "9           1      104  ...      0          0          0          0   \n",
       "...       ...      ...  ...    ...        ...        ...        ...   \n",
       "54157      18      127  ...      0          0          0          0   \n",
       "54158       1      127  ...      0          0          0          0   \n",
       "54202       5      126  ...      0          0          0          0   \n",
       "54203      21      127  ...      0          0          0          0   \n",
       "54204       2      126  ...      0          0          0          0   \n",
       "\n",
       "          CO2reel  malus_2021  malus_2021_reel  malus_2024  malus_2024_reel  \\\n",
       "0      331.491628       30000            30000       60000            60000   \n",
       "1      164.551953         360             6039        1761            24291   \n",
       "3      125.806650           0              650           0             2370   \n",
       "7      121.142370           0              210           0              983   \n",
       "9      127.419034           0              450           0             2049   \n",
       "...           ...         ...              ...         ...              ...   \n",
       "54157  149.969020           0              740         240             2544   \n",
       "54158  149.969020           0              740         240             2544   \n",
       "54202  149.954037           0              190         230              898   \n",
       "54203  150.115313           0              190         230              898   \n",
       "54204  149.954037           0              190         230              898   \n",
       "\n",
       "       delta_modele  \n",
       "0         21.642903  \n",
       "1         -0.436047  \n",
       "3         -0.692397  \n",
       "7          0.277503  \n",
       "9         -1.617747  \n",
       "...             ...  \n",
       "54157      3.072175  \n",
       "54158      0.211803  \n",
       "54202      0.755041  \n",
       "54203      2.190125  \n",
       "54204      0.000000  \n",
       "\n",
       "[39549 rows x 38 columns]"
      ]
     },
     "execution_count": 33,
     "metadata": {},
     "output_type": "execute_result"
    }
   ],
   "source": [
    "#datap = datap[['mean_co2_theorique','mean_cylindree','nb_pl_ass', 'mean_co2_reel', 'energ','mean_nb_decibels', 'mean_ptr', 'mean_ptac', 'mean_charge_utile','mean_puis_kw', 'Prix du véhicule', 'VOLUME','Carrosserie', 'malus_2021','delta_modele']]\n",
    "datap"
   ]
  },
  {
   "cell_type": "code",
   "execution_count": null,
   "metadata": {
    "colab": {
     "base_uri": "https://localhost:8080/",
     "height": 112
    },
    "executionInfo": {
     "elapsed": 244,
     "status": "ok",
     "timestamp": 1713421304229,
     "user": {
      "displayName": "Clément Malgouyres",
      "userId": "01026017214224131197"
     },
     "user_tz": -120
    },
    "id": "kPq4xwhxKtkx",
    "outputId": "20e6015c-c135-4329-c213-197797df9396"
   },
   "outputs": [
    {
     "data": {
      "text/html": [
       "<div>\n",
       "<style scoped>\n",
       "    .dataframe tbody tr th:only-of-type {\n",
       "        vertical-align: middle;\n",
       "    }\n",
       "\n",
       "    .dataframe tbody tr th {\n",
       "        vertical-align: top;\n",
       "    }\n",
       "\n",
       "    .dataframe thead th {\n",
       "        text-align: right;\n",
       "    }\n",
       "</style>\n",
       "<table border=\"1\" class=\"dataframe\">\n",
       "  <thead>\n",
       "    <tr style=\"text-align: right;\">\n",
       "      <th></th>\n",
       "      <th>mean_co2_theorique</th>\n",
       "      <th>malus_2021</th>\n",
       "    </tr>\n",
       "  </thead>\n",
       "  <tbody>\n",
       "    <tr>\n",
       "      <th>mean_co2_theorique</th>\n",
       "      <td>1.000000</td>\n",
       "      <td>0.476102</td>\n",
       "    </tr>\n",
       "    <tr>\n",
       "      <th>malus_2021</th>\n",
       "      <td>0.476102</td>\n",
       "      <td>1.000000</td>\n",
       "    </tr>\n",
       "  </tbody>\n",
       "</table>\n",
       "</div>"
      ],
      "text/plain": [
       "                    mean_co2_theorique  malus_2021\n",
       "mean_co2_theorique            1.000000    0.476102\n",
       "malus_2021                    0.476102    1.000000"
      ]
     },
     "execution_count": 34,
     "metadata": {},
     "output_type": "execute_result"
    }
   ],
   "source": [
    "datap[['mean_co2_theorique','malus_2021']].corr()"
   ]
  },
  {
   "cell_type": "code",
   "execution_count": null,
   "metadata": {
    "colab": {
     "base_uri": "https://localhost:8080/",
     "height": 472
    },
    "executionInfo": {
     "elapsed": 1142,
     "status": "ok",
     "timestamp": 1713421356461,
     "user": {
      "displayName": "Clément Malgouyres",
      "userId": "01026017214224131197"
     },
     "user_tz": -120
    },
    "id": "MT-AOv-NscmZ",
    "outputId": "bfc56e9b-4271-40ec-b6bd-d134ad96cf81"
   },
   "outputs": [
    {
     "data": {
      "image/png": "[encoded data removed]",
      "text/plain": [
       "<Figure size 640x480 with 1 Axes>"
      ]
     },
     "metadata": {},
     "output_type": "display_data"
    }
   ],
   "source": [
    "plt.scatter(datap['mean_co2_theorique'], datap['malus_2021'], label='malus_2021')\n",
    "plt.scatter(datap['mean_co2_theorique'], datap['malus_2024'], label='malus_2024', color='r')\n",
    "plt.title('Scatter Plot of mean_co2_theorique vs malus')\n",
    "plt.xlabel('mean_co2_theorique')\n",
    "plt.ylabel('malus')\n",
    "plt.grid(True)  # Optional: Adds a grid for better readability\n",
    "plt.legend()\n",
    "plt.show()"
   ]
  },
  {
   "cell_type": "code",
   "execution_count": null,
   "metadata": {
    "colab": {
     "base_uri": "https://localhost:8080/"
    },
    "executionInfo": {
     "elapsed": 325,
     "status": "ok",
     "timestamp": 1713417997073,
     "user": {
      "displayName": "Clément Malgouyres",
      "userId": "01026017214224131197"
     },
     "user_tz": -120
    },
    "id": "Tcjh4FuMKMM-",
    "outputId": "b39eef34-b2e9-42f1-e8e7-9a8ab7dab8bc"
   },
   "outputs": [
    {
     "name": "stdout",
     "output_type": "stream",
     "text": [
      "698.8260891552252\n",
      "187.87181296990966\n"
     ]
    }
   ],
   "source": [
    "print(datap['malus_2021'].mean())\n",
    "print(np.average(datap['malus_2021'], weights=datap['VOLUME']))"
   ]
  },
  {
   "cell_type": "markdown",
   "metadata": {
    "id": "uvSjn7HHwG9y"
   },
   "source": [
    "## 4. Test de notre fonction part de marché (succès)"
   ]
  },
  {
   "cell_type": "code",
   "execution_count": null,
   "metadata": {
    "colab": {
     "base_uri": "https://localhost:8080/"
    },
    "executionInfo": {
     "elapsed": 209,
     "status": "ok",
     "timestamp": 1713421359712,
     "user": {
      "displayName": "Clément Malgouyres",
      "userId": "01026017214224131197"
     },
     "user_tz": -120
    },
    "id": "3t_NOHB4wG9y",
    "outputId": "741d0b0a-2292-40fe-9508-ae8868b3c8e5"
   },
   "outputs": [
    {
     "name": "stdout",
     "output_type": "stream",
     "text": [
      "malus 2021\n",
      "count    3.954900e+04\n",
      "mean    -5.035700e-16\n",
      "std      4.523765e-14\n",
      "min     -2.889140e-13\n",
      "25%     -2.889140e-14\n",
      "50%      0.000000e+00\n",
      "75%      3.934149e-14\n",
      "max      4.044797e-13\n",
      "dtype: float64\n",
      "Notre modele logit predit les ventes observees en 2021 lorsque l'on applique le malus 2021.\n"
     ]
    }
   ],
   "source": [
    "def part_de_marche(m):\n",
    "    pexp = np.exp(  datap['delta_modele'] + beta * (datap['Prix du véhicule'] + m))\n",
    "    pit = pexp / np.sum(pexp)\n",
    "    return pit\n",
    "\n",
    "\n",
    "part_de_marche_estime = part_de_marche(datap['malus_2021'])\n",
    "#part_de_marche_estime = part_de_marche(0)\n",
    "\n",
    "part_de_marche_observe = datap['VOLUME']/datap['VOLUME'].sum()\n",
    "\n",
    "print(\"malus 2021\")\n",
    "ecart = (part_de_marche_estime - part_de_marche_observe)/(part_de_marche_observe) * 100\n",
    "print(ecart.describe())\n",
    "print(\"Notre modele logit predit les ventes observees en 2021 lorsque l'on applique le malus 2021.\")"
   ]
  },
  {
   "cell_type": "markdown",
   "metadata": {
    "id": "4ELhM8CQp8OI"
   },
   "source": [
    "Formula based on initial shares and changes in prices: $s'_j=s_j \\exp(\\beta \\times \\Delta T_j)/\\sum_h s_h \\exp(\\beta \\times \\Delta T_h)$"
   ]
  },
  {
   "cell_type": "code",
   "execution_count": null,
   "metadata": {
    "colab": {
     "base_uri": "https://localhost:8080/"
    },
    "executionInfo": {
     "elapsed": 2,
     "status": "ok",
     "timestamp": 1713421362738,
     "user": {
      "displayName": "Clément Malgouyres",
      "userId": "01026017214224131197"
     },
     "user_tz": -120
    },
    "id": "UNme-hv3phUE",
    "outputId": "10a9c843-63ac-4f28-8a02-322ad67b00cf"
   },
   "outputs": [
    {
     "name": "stdout",
     "output_type": "stream",
     "text": [
      "count    3.954900e+04\n",
      "mean     1.182435e-14\n",
      "std      4.522556e-14\n",
      "min     -2.674432e-13\n",
      "25%     -1.567348e-14\n",
      "50%      1.518746e-14\n",
      "75%      4.179596e-14\n",
      "max      4.234517e-13\n",
      "dtype: float64\n"
     ]
    }
   ],
   "source": [
    "def part_de_marche_v2(dT):\n",
    "    s=datap['VOLUME']/datap['VOLUME'].sum()\n",
    "    pexp = s*np.exp( beta * (dT))\n",
    "    pit = pexp / np.sum(pexp)\n",
    "    return pit\n",
    "\n",
    "part_de_marche_estime_v2 = part_de_marche_v2(-datap['malus_2021'])\n",
    "\n",
    "# check the two approaches are consistent\n",
    "\n",
    "#here important : cancelling the malus in the function part_de_marche is like adding m = 0 to the price\n",
    "part_de_marche_estime = part_de_marche(0)\n",
    "ecart = (part_de_marche_estime - part_de_marche_estime_v2)/(part_de_marche_estime_v2) * 100\n",
    "print(ecart.describe())"
   ]
  },
  {
   "cell_type": "code",
   "execution_count": null,
   "metadata": {
    "colab": {
     "base_uri": "https://localhost:8080/"
    },
    "executionInfo": {
     "elapsed": 3,
     "status": "ok",
     "timestamp": 1713421364370,
     "user": {
      "displayName": "Clément Malgouyres",
      "userId": "01026017214224131197"
     },
     "user_tz": -120
    },
    "id": "jGVaxMgEwG9y",
    "outputId": "26884847-c06c-4f23-943b-39f72603144f"
   },
   "outputs": [
    {
     "name": "stdout",
     "output_type": "stream",
     "text": [
      "emission reelle observee: 141.41995121496478\n",
      "emission reelle estimée sans malus: 150.40915478663536\n"
     ]
    }
   ],
   "source": [
    "nb_vehicules = datap['VOLUME'].sum()\n",
    "moyenne_emission_reelle = np.sum(valeurs_colonne_ventes*valeurs_colonne_co2_reel)/np.sum(valeurs_colonne_ventes)\n",
    "moyenne_emission_reelle_estimee = (part_de_marche(0)* datap['mean_co2_reel'] ).sum()\n",
    "print(\"emission reelle observee:\",moyenne_emission_reelle)\n",
    "print(\"emission reelle estimée sans malus:\",moyenne_emission_reelle_estimee)"
   ]
  },
  {
   "cell_type": "code",
   "execution_count": null,
   "metadata": {
    "colab": {
     "base_uri": "https://localhost:8080/"
    },
    "executionInfo": {
     "elapsed": 210,
     "status": "ok",
     "timestamp": 1713421367067,
     "user": {
      "displayName": "Clément Malgouyres",
      "userId": "01026017214224131197"
     },
     "user_tz": -120
    },
    "id": "g6DkRdAlwG9y",
    "outputId": "2e088c5d-5383-441b-fc9f-745d00f1c58a"
   },
   "outputs": [
    {
     "name": "stdout",
     "output_type": "stream",
     "text": [
      "emission theorique observee: 119.14878070141394\n",
      "emission theorique estimée sans malus: 127.25666262501068\n"
     ]
    }
   ],
   "source": [
    "nb_vehicules = datap['VOLUME'].sum()\n",
    "moyenne_emission_reelle = np.sum(valeurs_colonne_ventes*datap['mean_co2_theorique'])/np.sum(valeurs_colonne_ventes)\n",
    "moyenne_emission_reelle_estimee = (part_de_marche(0)* datap['mean_co2_theorique'] ).sum()\n",
    "print(\"emission theorique observee:\",moyenne_emission_reelle)\n",
    "print(\"emission theorique estimée sans malus:\",moyenne_emission_reelle_estimee)"
   ]
  },
  {
   "cell_type": "code",
   "execution_count": null,
   "metadata": {
    "id": "5xKDQH2PwG95",
    "outputId": "daf591e2-0fb6-4cb6-cad8-099b13048d8f"
   },
   "outputs": [
    {
     "data": {
      "text/plain": [
       "Index(['mean_cylindree', 'mean_co2_theorique', 'mean_ptr', 'mean_charge_utile',\n",
       "       'mean_puis_kw', 'mean_co2_reel', 'mean_nb_decibels', 'Prix du véhicule',\n",
       "       'VOLUME', 'CO2_PRF', 'ES', 'GO', 'FE', 'EE', 'EH', 'GH', 'EL', 'GN',\n",
       "       'GL', 'EG', 'FH', 'EN', 'BERLINE', 'TS TERRAINS/CHEMINS', 'BREAK',\n",
       "       'MINIBUS', 'MONOSPACE COMPACT', 'COMBISPACE', 'COUPE', 'MONOSPACE',\n",
       "       'MINISPACE', 'CABRIOLET', 'CO2reel', 'malus_2021', 'malus_2021_reel',\n",
       "       'malus_2024', 'malus_2024_reel', 'delta_modele'],\n",
       "      dtype='object')"
      ]
     },
     "execution_count": 41,
     "metadata": {},
     "output_type": "execute_result"
    }
   ],
   "source": [
    "datap.columns"
   ]
  },
  {
   "cell_type": "markdown",
   "metadata": {
    "id": "WyH4zfOewG96"
   },
   "source": [
    "## 5. Calcul de notre malus (fait dans le fichier optimisation)"
   ]
  },
  {
   "cell_type": "markdown",
   "metadata": {
    "id": "aczgcuGawG96"
   },
   "source": [
    "## 6. Affichage de l'effet des différents malus sur les emissions moyennes de CO2"
   ]
  },
  {
   "cell_type": "code",
   "execution_count": null,
   "metadata": {
    "id": "Tsk-hU2PwG96",
    "outputId": "0422fa6a-46df-450a-d783-033988741938"
   },
   "outputs": [
    {
     "data": {
      "text/plain": [
       "array([0., 0., 0., ..., 0., 0., 0.])"
      ]
     },
     "execution_count": 42,
     "metadata": {},
     "output_type": "execute_result"
    }
   ],
   "source": [
    "m_guess = np.zeros(datap['VOLUME'].size)\n",
    "m_guess"
   ]
  },
  {
   "cell_type": "markdown",
   "metadata": {
    "id": "KxlNF4dYwG96"
   },
   "source": [
    "### Effet malus 2021 basé sur CO2 théorique"
   ]
  },
  {
   "cell_type": "code",
   "execution_count": null,
   "metadata": {
    "id": "SthK2CQAwG96"
   },
   "outputs": [],
   "source": [
    "# categorisation selon le malus 2021 théorique\n",
    "bins_limits = np.concatenate([np.array([0, 132])] + [malus_2021_df['CO2'][1:-1].values] + [np.array([219, 420])])\n",
    "\n",
    "# Découper le DataFrame en bins\n",
    "datap['CO2bins'] = pd.cut(datap['mean_co2_theorique'], bins=bins_limits, include_lowest=True, right=False)\n",
    "datap['CO2bins']\n",
    "\n",
    "# creation des moyennes par categorie\n",
    "nb_vehicules = datap.groupby('CO2bins')['VOLUME'].sum()\n",
    "\n",
    "datap['Prix_Volume'] = datap['Prix du véhicule'] * datap['VOLUME']\n",
    "price_by_bin = datap.groupby('CO2bins')['Prix_Volume'].sum()  /nb_vehicules\n",
    "datap.drop('Prix_Volume', axis=1)\n",
    "p=price_by_bin\n",
    "\n",
    "datap['CO2_Volume'] = datap['CO2reel'] * datap['VOLUME']\n",
    "meanCO2_by_bin = datap.groupby('CO2bins')['CO2_Volume'].sum() / nb_vehicules\n",
    "CO2reel=meanCO2_by_bin\n",
    "datap.drop('CO2_Volume', axis =1)\n",
    "\n",
    "datap['CO2theorique_Volume'] = datap['mean_co2_theorique'] * datap['VOLUME']\n",
    "CO2theorique=datap.groupby('CO2bins')['CO2theorique_Volume'].sum() / nb_vehicules\n",
    "datap.drop('CO2theorique_Volume', axis =1)\n",
    "\n",
    "# malus\n",
    "malus_2021=datap.groupby('CO2bins')['malus_2021'].mean() #2021 sur theorique"
   ]
  },
  {
   "cell_type": "markdown",
   "metadata": {
    "id": "Uoj2M8zLwG96"
   },
   "source": [
    "#### a. Visualisation du malus 2021"
   ]
  },
  {
   "cell_type": "code",
   "execution_count": null,
   "metadata": {
    "id": "H_ryIU1-wG96",
    "outputId": "6204dd52-6314-4706-817e-a7c89cf0df64"
   },
   "outputs": [
    {
     "name": "stderr",
     "output_type": "stream",
     "text": [
      "/tmp/ipykernel_277/1947734070.py:9: DeprecationWarning: `np.int` is a deprecated alias for the builtin `int`. To silence this warning, use `int` by itself. Doing this will not modify any behavior and is safe. When replacing `np.int`, you may wish to use e.g. `np.int64` or `np.int32` to specify the precision. If you wish to review your current use, check the release note link for additional information.\n",
      "Deprecated in NumPy 1.20; for more details and guidance: https://numpy.org/devdocs/release/1.20.0-notes.html#deprecations\n",
      "  make_int_vf = np.vectorize(np.int)\n"
     ]
    },
    {
     "data": {
      "image/png": "[encoded data removed]",
      "text/plain": [
       "<Figure size 800x600 with 1 Axes>"
      ]
     },
     "metadata": {},
     "output_type": "display_data"
    }
   ],
   "source": [
    "# Créer le graphe\n",
    "plt.figure(figsize=(8, 6))\n",
    "\n",
    "# Tracer les barres\n",
    "\n",
    "plt.bar(range(len(p)), p+malus_2021, width=0.5, align='center', color='red')\n",
    "plt.bar(range(len(p)), p, width=0.5, align='center', color='blue')\n",
    "\n",
    "make_int_vf = np.vectorize(np.int)\n",
    "\n",
    "# Définir les limites des axes x et y\n",
    "\n",
    "positions = [0, 1, len(bins_limits) //4, len(bins_limits) // 2, 3*len(bins_limits) // 4, len(bins_limits) - 2]  # Par exemple, afficher la première, la moitié et la dernière valeur\n",
    "labels = [make_int_vf(bins_limits[i]) for i in positions]\n",
    "plt.xticks(positions, labels, rotation=60)\n",
    "#plt.xticks(range(len(bins_limits)), make_int_vf(bins_limits), rotation =60)\n",
    "plt.xlabel('CO2 (g/km) - Catégorisation du malus 2021')\n",
    "plt.ylabel('Prix')\n",
    "\n",
    "# Ajouter des titres et des légendes\n",
    "plt.title('Impact du malus 2021 théorique sur le prix de chaque catégorie')\n",
    "plt.grid(True)\n",
    "\n",
    "# Afficher le graphe\n",
    "plt.show()"
   ]
  },
  {
   "cell_type": "markdown",
   "metadata": {
    "id": "fn2lleuKwG96"
   },
   "source": [
    "#### b. impact en terme de moyenne d'émissions"
   ]
  },
  {
   "cell_type": "code",
   "execution_count": null,
   "metadata": {},
   "outputs": [
    {
     "data": {
      "text/plain": [
       "CO2bins\n",
       "[0, 132)          0.0\n",
       "[132, 133)        0.0\n",
       "[133, 134)       50.0\n",
       "[134, 135)       75.0\n",
       "[135, 136)      100.0\n",
       "               ...   \n",
       "[215, 216)        NaN\n",
       "[216, 217)    27166.0\n",
       "[217, 218)        NaN\n",
       "[218, 219)    29070.0\n",
       "[219, 420)    30000.0\n",
       "Name: malus_2021, Length: 89, dtype: float64"
      ]
     },
     "execution_count": 81,
     "metadata": {},
     "output_type": "execute_result"
    }
   ],
   "source": [
    "malus_2021"
   ]
  },
  {
   "cell_type": "code",
   "execution_count": null,
   "metadata": {
    "id": "Ivx4mnBywG96",
    "outputId": "bd36642c-09b5-4103-8cb1-47d3863b9429"
   },
   "outputs": [
    {
     "name": "stdout",
     "output_type": "stream",
     "text": [
      "MALUS 2021 basé sur CO2 théorique\n",
      "\n",
      "CO2 théorique après application du malus 2021 théorique\n",
      "Moyenne co2 théorique (observée):  119.14878070141394\n",
      "Moyenne co2 théorique (estimée sans malus):  127.25666262501068\n",
      "Moyenne co2 théorique (estimée avec malus 2021):  119.14878070141397\n",
      "Baisse en pourcentage des emissions grace au malus en co2 théorique:  6.804838350729753\n",
      "\n",
      "CO2 réel après application du malus 2021 théorique\n",
      "Moyenne co2 réel (observée):  141.41995121496478\n",
      "Moyenne co2 réel (estimée sans malus):  150.40915478663536\n",
      "Moyenne co2 réel (estimée avec malus 2021):  141.4199512149648\n",
      "Baisse en pourcentage des emissions grace au malus en co2 réel:  6.356389953781375\n"
     ]
    }
   ],
   "source": [
    "\n",
    "print(\"MALUS 2021 basé sur CO2 théorique\")\n",
    "print(\"\\nCO2 théorique après application du malus 2021 théorique\")\n",
    "# pour 2021 dans datap\n",
    "nb_vehicules = datap['VOLUME'].sum()\n",
    "\n",
    "# i- moyenne co2 théorique (pondérée par parts de marché observées)\n",
    "observe = (datap['mean_co2_theorique']*datap['VOLUME']).sum() / nb_vehicules\n",
    "print('Moyenne co2 théorique (observée): ', observe )\n",
    "\n",
    "\n",
    "# ii- moyenne co2 théorique (pondérée par parts de marché contrefactuelles sans malus)\n",
    "estimation_sans_malus = ( datap['mean_co2_theorique'] * part_de_marche(m_guess)).sum()\n",
    "estimation_avec_malus2021 = ( datap['mean_co2_theorique'] * part_de_marche(datap['malus_2021'])).sum()\n",
    "print('Moyenne co2 théorique (estimée sans malus): ',  estimation_sans_malus)\n",
    "print('Moyenne co2 théorique (estimée avec malus 2021): ',  estimation_avec_malus2021)\n",
    "\n",
    "# iii- baisse en pourcent permis grâce au malus en CO2 théorique ((observé-contrefactuel)/contrefactuel)\n",
    "print('Baisse en pourcentage des emissions grace au malus en co2 théorique: ', ((estimation_sans_malus - estimation_avec_malus2021)/estimation_avec_malus2021)*100)\n",
    "\n",
    "\n",
    "# pour 2021 dans datap\n",
    "print(\"\\nCO2 réel après application du malus 2021 théorique\")\n",
    "nb_vehicules = datap['VOLUME'].sum()\n",
    "\n",
    "# iv- moyenne co2 réel (pondérée par parts de marché observées)\n",
    "observe = (datap['mean_co2_reel']*datap['VOLUME']).sum() / nb_vehicules\n",
    "print('Moyenne co2 réel (observée): ', observe )\n",
    "\n",
    "# comparaison realite / estimation\n",
    "estimation_sans_malus = ( datap['mean_co2_reel'] * part_de_marche(m_guess)).sum()\n",
    "print('Moyenne co2 réel (estimée sans malus): ',  estimation_sans_malus)\n",
    "\n",
    "# v- moyenne co2 réel (pondérée par parts de marché contrefactuelles sans malus)\n",
    "estimation_avec_malus2021 = ( datap['mean_co2_reel'] * part_de_marche(datap['malus_2021'])).sum()\n",
    "print('Moyenne co2 réel (estimée avec malus 2021): ',  estimation_avec_malus2021)\n",
    "\n",
    "# vi- baisse en pourcent permis grâce au malus en CO2 réel ((observée-contrefactuel)/contrefactuel)\n",
    "print('Baisse en pourcentage des emissions grace au malus en co2 réel: ', ((estimation_sans_malus - estimation_avec_malus2021)/estimation_avec_malus2021)*100)\n"
   ]
  },
  {
   "cell_type": "markdown",
   "metadata": {},
   "source": [
    "## effet malus 2021 basé sur le co2 réel"
   ]
  },
  {
   "cell_type": "code",
   "execution_count": null,
   "metadata": {},
   "outputs": [
    {
     "data": {
      "text/plain": [
       "CO2bins\n",
       "[0, 132)          0\n",
       "[132, 133)        0\n",
       "[133, 134)       50\n",
       "[134, 135)       75\n",
       "[135, 136)      100\n",
       "              ...  \n",
       "[215, 216)    26247\n",
       "[216, 217)    27166\n",
       "[217, 218)    28107\n",
       "[218, 219)    29070\n",
       "[219, 420)    30000\n",
       "Name: malus_2021_reel, Length: 89, dtype: int64"
      ]
     },
     "execution_count": 84,
     "metadata": {},
     "output_type": "execute_result"
    }
   ],
   "source": [
    "# categorisation selon le malus 2021 réel\n",
    "bins_limits = np.concatenate([np.array([0, 132])] + [malus_2021_df['CO2'][1:-1].values] + [np.array([219, 420])])\n",
    "\n",
    "# Découper le DataFrame en bins\n",
    "datap['CO2bins'] = pd.cut(datap['mean_co2_reel'], bins=bins_limits, include_lowest=True, right=False) #CO2 réel\n",
    "datap['CO2bins']\n",
    "\n",
    "# creation des moyennes par categorie\n",
    "nb_vehicules = datap.groupby('CO2bins')['VOLUME'].sum()\n",
    "\n",
    "datap['Prix_Volume'] = datap['Prix du véhicule'] * datap['VOLUME']\n",
    "price_by_bin = datap.groupby('CO2bins')['Prix_Volume'].sum()  /nb_vehicules\n",
    "datap.drop('Prix_Volume', axis=1)\n",
    "p=price_by_bin\n",
    "\n",
    "datap['CO2_Volume'] = datap['CO2reel'] * datap['VOLUME']\n",
    "meanCO2_by_bin = datap.groupby('CO2bins')['CO2_Volume'].sum() / nb_vehicules\n",
    "CO2reel=meanCO2_by_bin\n",
    "datap.drop('CO2_Volume', axis =1)\n",
    "\n",
    "datap['CO2theorique_Volume'] = datap['mean_co2_theorique'] * datap['VOLUME']\n",
    "CO2theorique=datap.groupby('CO2bins')['CO2theorique_Volume'].sum() / nb_vehicules\n",
    "datap.drop('CO2theorique_Volume', axis =1)\n",
    "\n",
    "malus_2021_reel = datap.groupby('CO2bins')['malus_2021_reel'].min()\n",
    "malus_2021_reel\n",
    "\n"
   ]
  },
  {
   "cell_type": "code",
   "execution_count": null,
   "metadata": {},
   "outputs": [],
   "source": []
  },
  {
   "cell_type": "code",
   "execution_count": null,
   "metadata": {
    "id": "-owDljAawG96",
    "outputId": "22202d62-9b3e-44e2-de39-2181c8e109b9"
   },
   "outputs": [
    {
     "name": "stdout",
     "output_type": "stream",
     "text": [
      "MALUS 2021 basé sur CO2 réel\n",
      "\n",
      "CO2 théorique\n",
      "Moyenne co2 théorique (observée):  119.14878070141394\n",
      "Moyenne co2 théorique (estimée sans malus):  127.25666262501068\n",
      "Moyenne co2 théorique (estimée avec malus 2021):  116.5916895818876\n",
      "Baisse en pourcentage des emissions grace au malus en co2 théorique:  9.1472840657589\n",
      "\n",
      "CO2 réel\n",
      "Moyenne co2 réel (observée):  141.41995121496478\n",
      "Moyenne co2 réel (estimée sans malus):  150.40915478663536\n",
      "Moyenne co2 réel (estimée avec malus 2021):  138.21499959449582\n",
      "Baisse en pourcentage des emissions grace au malus en co2 réel:  8.822599014517628\n"
     ]
    }
   ],
   "source": [
    "\n",
    "print(\"MALUS 2021 basé sur CO2 réel\")\n",
    "print(\"\\nCO2 théorique\")\n",
    "# pour 2021 dans datap\n",
    "nb_vehicules = datap['VOLUME'].sum()\n",
    "\n",
    "# i- moyenne co2 théorique (pondérée par parts de marché observées)\n",
    "observe = (datap['mean_co2_theorique']*datap['VOLUME']).sum() / nb_vehicules\n",
    "print('Moyenne co2 théorique (observée): ', observe )\n",
    "\n",
    "\n",
    "# ii- moyenne co2 théorique (pondérée par parts de marché contrefactuelles sans malus)\n",
    "estimation_sans_malus = ( datap['mean_co2_theorique'] * part_de_marche(m_guess)).sum()\n",
    "estimation_avec_malus2021 = ( datap['mean_co2_theorique'] * part_de_marche(datap['malus_2021_reel'])).sum()\n",
    "print('Moyenne co2 théorique (estimée sans malus): ',  estimation_sans_malus)\n",
    "print('Moyenne co2 théorique (estimée avec malus 2021): ',  estimation_avec_malus2021)\n",
    "\n",
    "# iii- baisse en pourcent permis grâce au malus en CO2 théorique ((observé-contrefactuel)/contrefactuel)\n",
    "print('Baisse en pourcentage des emissions grace au malus en co2 théorique: ', ((estimation_sans_malus - estimation_avec_malus2021)/estimation_avec_malus2021)*100)\n",
    "\n",
    "\n",
    "# pour 2021 dans datap\n",
    "print(\"\\nCO2 réel\")\n",
    "nb_vehicules = datap['VOLUME'].sum()\n",
    "\n",
    "# iv- moyenne co2 réel (pondérée par parts de marché observées)\n",
    "observe = (datap['mean_co2_reel']*datap['VOLUME']).sum() / nb_vehicules\n",
    "print('Moyenne co2 réel (observée): ', observe )\n",
    "\n",
    "# comparaison realite / estimation\n",
    "estimation_sans_malus = ( datap['mean_co2_reel'] * part_de_marche(m_guess)).sum()\n",
    "print('Moyenne co2 réel (estimée sans malus): ',  estimation_sans_malus)\n",
    "\n",
    "# v- moyenne co2 réel (pondérée par parts de marché contrefactuelles sans malus)\n",
    "estimation_avec_malus2021 = ( datap['mean_co2_reel'] * part_de_marche(datap['malus_2021_reel'])).sum()\n",
    "print('Moyenne co2 réel (estimée avec malus 2021): ',  estimation_avec_malus2021)\n",
    "\n",
    "# vi- baisse en pourcent permis grâce au malus en CO2 réel ((observée-contrefactuel)/contrefactuel)\n",
    "print('Baisse en pourcentage des emissions grace au malus en co2 réel: ', ((estimation_sans_malus - estimation_avec_malus2021)/estimation_avec_malus2021)*100)\n",
    "\n"
   ]
  },
  {
   "cell_type": "markdown",
   "metadata": {
    "id": "dlylh4xHwG96"
   },
   "source": [
    "### Effet malus 2024"
   ]
  },
  {
   "cell_type": "code",
   "execution_count": null,
   "metadata": {
    "id": "nn0rJeBYwG97",
    "outputId": "fa6a47ca-8e00-45be-9745-c620d67b78e6"
   },
   "outputs": [
    {
     "data": {
      "text/plain": [
       "0        60000\n",
       "1         1761\n",
       "3            0\n",
       "7            0\n",
       "9            0\n",
       "         ...  \n",
       "54157      240\n",
       "54158      240\n",
       "54202      230\n",
       "54203      230\n",
       "54204      230\n",
       "Name: malus_2024, Length: 39549, dtype: int64"
      ]
     },
     "execution_count": 86,
     "metadata": {},
     "output_type": "execute_result"
    }
   ],
   "source": [
    "datap['malus_2024']"
   ]
  },
  {
   "cell_type": "markdown",
   "metadata": {
    "id": "Yqyp_GZOwG97"
   },
   "source": [
    "#### a. Visualisation du malus 2024 basé sur le co2 théorique"
   ]
  },
  {
   "cell_type": "code",
   "execution_count": null,
   "metadata": {
    "id": "Srwfl1ALwG97",
    "outputId": "0618d05a-ccf0-4ff9-f170-007cbc2b1ebd"
   },
   "outputs": [
    {
     "data": {
      "text/plain": [
       "array([118, 119, 120, 121, 122, 123, 124, 125, 126, 127, 128, 129, 130,\n",
       "       131, 132, 133, 134, 135, 136, 137, 138, 139, 140, 141, 142, 143,\n",
       "       144, 145, 146, 147, 148, 149, 150, 151, 152, 153, 154, 155, 156,\n",
       "       157, 158, 159, 160, 161, 162, 163, 164, 165, 166, 167, 168, 169,\n",
       "       170, 171, 172, 173, 174, 175, 176, 177, 178, 179, 180, 181, 182,\n",
       "       183, 184, 185, 186, 187, 188, 189, 190, 191, 192, 193])"
      ]
     },
     "execution_count": 87,
     "metadata": {},
     "output_type": "execute_result"
    }
   ],
   "source": [
    "def make_int(s):\n",
    "    return int(re.search(r'\\d+', s).group())\n",
    "\n",
    "make_int_vf = np.vectorize(make_int)\n",
    "make_int_vf(malus_2024_df['CO2'][1:-1].values)"
   ]
  },
  {
   "cell_type": "code",
   "execution_count": null,
   "metadata": {
    "id": "Ia_bdAwCwG97"
   },
   "outputs": [],
   "source": [
    "# categorisation selon le malus 2024 sur co2 théorique\n",
    "bins_limits = np.concatenate([np.array([0, 117])] + [make_int_vf(malus_2024_df['CO2'][1:-1].values)] + [np.array([ 420])])\n",
    "\n",
    "# Découper le DataFrame en bins\n",
    "datap['CO2bins'] = pd.cut(datap['mean_co2_theorique'], bins=bins_limits, include_lowest=True, right=False) #co2 theorique\n",
    "datap['CO2bins']\n",
    "\n",
    "# creation des moyennes par categorie\n",
    "nb_vehicules = datap.groupby('CO2bins')['VOLUME'].sum()\n",
    "\n",
    "datap['Prix_Volume'] = datap['Prix du véhicule'] * datap['VOLUME']\n",
    "price_by_bin = datap.groupby('CO2bins')['Prix_Volume'].sum()  /nb_vehicules\n",
    "datap.drop('Prix_Volume', axis=1)\n",
    "p=price_by_bin\n",
    "\n",
    "datap['CO2_Volume'] = datap['CO2reel'] * datap['VOLUME']\n",
    "meanCO2_by_bin = datap.groupby('CO2bins')['CO2_Volume'].sum() / nb_vehicules\n",
    "CO2reel=meanCO2_by_bin\n",
    "datap.drop('CO2_Volume', axis =1)\n",
    "\n",
    "datap['CO2theorique_Volume'] = datap['mean_co2_theorique'] * datap['VOLUME']\n",
    "CO2theorique=datap.groupby('CO2bins')['CO2theorique_Volume'].sum() / nb_vehicules\n",
    "datap.drop('CO2theorique_Volume', axis =1)\n",
    "\n",
    "# malus\n",
    "malus_2024=datap.groupby('CO2bins')['malus_2024'].max()"
   ]
  },
  {
   "cell_type": "code",
   "execution_count": null,
   "metadata": {},
   "outputs": [
    {
     "data": {
      "text/plain": [
       "CO2bins\n",
       "[0, 117)          0\n",
       "[117, 118)        0\n",
       "[118, 119)       50\n",
       "[119, 120)       75\n",
       "[120, 121)      100\n",
       "              ...  \n",
       "[189, 190)    43179\n",
       "[190, 191)    45990\n",
       "[191, 192)    48901\n",
       "[192, 193)    51912\n",
       "[193, 420)    60000\n",
       "Name: malus_2024, Length: 78, dtype: int64"
      ]
     },
     "execution_count": 89,
     "metadata": {},
     "output_type": "execute_result"
    }
   ],
   "source": [
    "malus_2024"
   ]
  },
  {
   "cell_type": "code",
   "execution_count": null,
   "metadata": {
    "id": "HxEY8mqowG97",
    "outputId": "818c6dc5-1210-488b-a23a-f06b4f383f6b"
   },
   "outputs": [
    {
     "data": {
      "image/png": "[encoded data removed]",
      "text/plain": [
       "<Figure size 800x600 with 1 Axes>"
      ]
     },
     "metadata": {},
     "output_type": "display_data"
    }
   ],
   "source": [
    "# Créer le graphe\n",
    "plt.figure(figsize=(8, 6))\n",
    "\n",
    "# Tracer les barres\n",
    "\n",
    "plt.bar(range(len(p)), p+malus_2024, width=0.5, align='center', color='red')\n",
    "plt.bar(range(len(p)), p, width=0.5, align='center', color='blue')\n",
    "\n",
    "make_int_vf = np.vectorize(int)\n",
    "\n",
    "# Définir les limites des axes x et y\n",
    "\n",
    "positions = [0, 1, len(bins_limits) //4, len(bins_limits) // 2, 3*len(bins_limits) // 4, len(bins_limits) - 2]  # Par exemple, afficher la première, la moitié et la dernière valeur\n",
    "labels = [make_int_vf(bins_limits[i]) for i in positions]\n",
    "plt.xticks(positions, labels, rotation=60)\n",
    "#plt.xticks(range(len(bins_limits)), make_int_vf(bins_limits), rotation =60)\n",
    "plt.xlabel('CO2 (g/km) - Catégorisation du malus 2024')\n",
    "plt.ylabel('Prix')\n",
    "\n",
    "# Ajouter des titres et des légendes\n",
    "plt.title('Impact du malus 2024 sur le prix de chaque catégorie')\n",
    "plt.grid(True)\n",
    "\n",
    "# Afficher le graphe\n",
    "plt.show()"
   ]
  },
  {
   "cell_type": "markdown",
   "metadata": {
    "id": "8AQGeHP9wG97"
   },
   "source": [
    "#### b. Impact sur les moyennes d'émissions de CO2"
   ]
  },
  {
   "cell_type": "code",
   "execution_count": null,
   "metadata": {
    "id": "mfGxGI09wG97",
    "outputId": "bcfce445-1725-4a12-c828-7abcc1b36345"
   },
   "outputs": [
    {
     "name": "stdout",
     "output_type": "stream",
     "text": [
      " MALUS 2024 basé sur co2 théorique\n",
      "\n",
      "CO2 théorique\n",
      "Moyenne co2 théorique (observée):  119.14878070141394\n",
      "Moyenne co2 théorique (estimée sans malus):  127.25666262501068\n",
      "Moyenne co2 théorique (estimée avec malus 2024):  117.19696086493403\n",
      "Baisse en pourcentage des emissions grace au malus en co2 théorique:  8.58358585908226\n",
      "\n",
      "CO2 réel\n",
      "Moyenne co2 réel (observée):  141.41995121496478\n",
      "Moyenne co2 réel (estimée sans malus):  150.40915478663536\n",
      "Moyenne co2 réel (estimée avec malus 2024):  139.61691984974533\n",
      "Baisse en pourcentage des emissions grace au malus en co2 réel:  7.729890437709518\n"
     ]
    }
   ],
   "source": [
    "\n",
    "\n",
    "print(\" MALUS 2024 basé sur co2 théorique\")\n",
    "print(\"\\nCO2 théorique\")\n",
    "\n",
    "# pour 2021 dans datap\n",
    "nb_vehicules = datap['VOLUME'].sum()\n",
    "\n",
    "# i- moyenne co2 théorique (pondérée par parts de marché observées)\n",
    "observe = (datap['mean_co2_theorique']*datap['VOLUME']).sum() / nb_vehicules\n",
    "print('Moyenne co2 théorique (observée): ', observe )\n",
    "\n",
    "\n",
    "# ii- moyenne co2 théorique (pondérée par parts de marché contrefactuelles sans malus)\n",
    "estimation_sans_malus = ( datap['mean_co2_theorique'] * part_de_marche(m_guess)).sum()\n",
    "estimation_avec_malus2024 = ( datap['mean_co2_theorique'] * part_de_marche(datap['malus_2024'])).sum()\n",
    "print('Moyenne co2 théorique (estimée sans malus): ',  estimation_sans_malus)\n",
    "print('Moyenne co2 théorique (estimée avec malus 2024): ',  estimation_avec_malus2024)\n",
    "\n",
    "# iii- baisse en pourcent permis grâce au malus en CO2 théorique ((observé-contrefactuel)/contrefactuel)\n",
    "print('Baisse en pourcentage des emissions grace au malus en co2 théorique: ', ((estimation_sans_malus - estimation_avec_malus2024)/estimation_avec_malus2024)*100)\n",
    "\n",
    "\n",
    "print(\"\\nCO2 réel\")\n",
    "# pour 2021 dans datap\n",
    "nb_vehicules = datap['VOLUME'].sum()\n",
    "\n",
    "# iv- moyenne co2 réel (pondérée par parts de marché observées)\n",
    "observe = (datap['mean_co2_reel']*datap['VOLUME']).sum() / nb_vehicules\n",
    "print('Moyenne co2 réel (observée): ', observe )\n",
    "\n",
    "# comparaison realite / estimation\n",
    "estimation_sans_malus = ( datap['mean_co2_reel'] * part_de_marche(m_guess)).sum()\n",
    "print('Moyenne co2 réel (estimée sans malus): ',  estimation_sans_malus)\n",
    "\n",
    "# v- moyenne co2 réel (pondérée par parts de marché contrefactuelles sans malus)\n",
    "estimation_avec_malus2024 = ( datap['mean_co2_reel'] * part_de_marche(datap['malus_2024'])).sum()\n",
    "print('Moyenne co2 réel (estimée avec malus 2024): ',  estimation_avec_malus2024)\n",
    "\n",
    "# vi- baisse en pourcent permis grâce au malus en CO2 réel ((observée-contrefactuel)/contrefactuel)\n",
    "print('Baisse en pourcentage des emissions grace au malus en co2 réel: ', ((estimation_sans_malus - estimation_avec_malus2024)/estimation_avec_malus2024)*100)\n"
   ]
  },
  {
   "cell_type": "markdown",
   "metadata": {},
   "source": [
    "## malus 2024 sur co2 réel"
   ]
  },
  {
   "cell_type": "code",
   "execution_count": null,
   "metadata": {},
   "outputs": [
    {
     "data": {
      "text/plain": [
       "array([118, 119, 120, 121, 122, 123, 124, 125, 126, 127, 128, 129, 130,\n",
       "       131, 132, 133, 134, 135, 136, 137, 138, 139, 140, 141, 142, 143,\n",
       "       144, 145, 146, 147, 148, 149, 150, 151, 152, 153, 154, 155, 156,\n",
       "       157, 158, 159, 160, 161, 162, 163, 164, 165, 166, 167, 168, 169,\n",
       "       170, 171, 172, 173, 174, 175, 176, 177, 178, 179, 180, 181, 182,\n",
       "       183, 184, 185, 186, 187, 188, 189, 190, 191, 192, 193])"
      ]
     },
     "execution_count": 92,
     "metadata": {},
     "output_type": "execute_result"
    }
   ],
   "source": [
    "def make_int(s):\n",
    "    return int(re.search(r'\\d+', s).group())\n",
    "\n",
    "make_int_vf = np.vectorize(make_int)\n",
    "liste_bins_malus_2024 = make_int_vf(malus_2024_df['CO2'][1:-1].values)\n",
    "liste_bins_malus_2024"
   ]
  },
  {
   "cell_type": "code",
   "execution_count": null,
   "metadata": {},
   "outputs": [],
   "source": [
    "# categorisation selon le malus 2024 sur co2 réel\n",
    "bins_limits = np.concatenate([np.array([0, 117])] + [liste_bins_malus_2024] + [np.array([ 420])])\n",
    "\n",
    "# Découper le DataFrame en bins\n",
    "datap['CO2bins'] = pd.cut(datap['mean_co2_reel'], bins=bins_limits, include_lowest=True, right=False)\n",
    "datap['CO2bins']\n",
    "\n",
    "# creation des moyennes par categorie\n",
    "nb_vehicules = datap.groupby('CO2bins')['VOLUME'].sum()\n",
    "\n",
    "datap['Prix_Volume'] = datap['Prix du véhicule'] * datap['VOLUME']\n",
    "price_by_bin = datap.groupby('CO2bins')['Prix_Volume'].sum()  /nb_vehicules\n",
    "datap.drop('Prix_Volume', axis=1)\n",
    "p=price_by_bin\n",
    "\n",
    "datap['CO2_Volume'] = datap['CO2reel'] * datap['VOLUME']\n",
    "meanCO2_by_bin = datap.groupby('CO2bins')['CO2_Volume'].sum() / nb_vehicules\n",
    "CO2reel=meanCO2_by_bin\n",
    "datap.drop('CO2_Volume', axis =1)\n",
    "\n",
    "datap['CO2theorique_Volume'] = datap['mean_co2_theorique'] * datap['VOLUME']\n",
    "CO2theorique=datap.groupby('CO2bins')['CO2theorique_Volume'].sum() / nb_vehicules\n",
    "datap.drop('CO2theorique_Volume', axis =1)\n",
    "\n",
    "# malus\n",
    "malus_2024_reel=datap.groupby('CO2bins')['malus_2024_reel'].mean()"
   ]
  },
  {
   "cell_type": "code",
   "execution_count": null,
   "metadata": {},
   "outputs": [
    {
     "data": {
      "text/plain": [
       "CO2bins\n",
       "[0, 117)          0.0\n",
       "[117, 118)        0.0\n",
       "[118, 119)       50.0\n",
       "[119, 120)       75.0\n",
       "[120, 121)      100.0\n",
       "               ...   \n",
       "[189, 190)    43179.0\n",
       "[190, 191)    45990.0\n",
       "[191, 192)    48901.0\n",
       "[192, 193)    51912.0\n",
       "[193, 420)    60000.0\n",
       "Name: malus_2024_reel, Length: 78, dtype: float64"
      ]
     },
     "execution_count": 95,
     "metadata": {},
     "output_type": "execute_result"
    }
   ],
   "source": [
    "malus_2024_reel"
   ]
  },
  {
   "cell_type": "code",
   "execution_count": null,
   "metadata": {},
   "outputs": [
    {
     "name": "stdout",
     "output_type": "stream",
     "text": [
      " MALUS 2024 basé sur co2 réel\n",
      "\n",
      "CO2 théorique\n",
      "Moyenne co2 théorique (observée):  119.14878070141394\n",
      "Moyenne co2 théorique (estimée sans malus):  127.25666262501068\n",
      "Moyenne co2 théorique (estimée avec malus 2024):  112.40904041958981\n",
      "Baisse en pourcentage des emissions grace au malus en co2 théorique:  13.208565921387697\n",
      "\n",
      "CO2 réel\n",
      "Moyenne co2 réel (observée):  141.41995121496478\n",
      "Moyenne co2 réel (estimée sans malus):  150.40915478663536\n",
      "Moyenne co2 réel (estimée avec malus 2024):  133.68893819093927\n",
      "Baisse en pourcentage des emissions grace au malus en co2 réel:  12.506806338618444\n"
     ]
    }
   ],
   "source": [
    "\n",
    "\n",
    "print(\" MALUS 2024 basé sur co2 réel\")\n",
    "print(\"\\nCO2 théorique\")\n",
    "\n",
    "# pour 2021 dans datap\n",
    "nb_vehicules = datap['VOLUME'].sum()\n",
    "\n",
    "# i- moyenne co2 théorique (pondérée par parts de marché observées)\n",
    "observe = (datap['mean_co2_theorique']*datap['VOLUME']).sum() / nb_vehicules\n",
    "print('Moyenne co2 théorique (observée): ', observe )\n",
    "\n",
    "\n",
    "# ii- moyenne co2 théorique (pondérée par parts de marché contrefactuelles sans malus)\n",
    "estimation_sans_malus = ( datap['mean_co2_theorique'] * part_de_marche(m_guess)).sum()\n",
    "estimation_avec_malus2024 = ( datap['mean_co2_theorique'] * part_de_marche(datap['malus_2024_reel'])).sum()\n",
    "print('Moyenne co2 théorique (estimée sans malus): ',  estimation_sans_malus)\n",
    "print('Moyenne co2 théorique (estimée avec malus 2024): ',  estimation_avec_malus2024)\n",
    "\n",
    "# iii- baisse en pourcent permis grâce au malus en CO2 théorique ((observé-contrefactuel)/contrefactuel)\n",
    "print('Baisse en pourcentage des emissions grace au malus en co2 théorique: ', ((estimation_sans_malus - estimation_avec_malus2024)/estimation_avec_malus2024)*100)\n",
    "\n",
    "\n",
    "print(\"\\nCO2 réel\")\n",
    "# pour 2021 dans datap\n",
    "nb_vehicules = datap['VOLUME'].sum()\n",
    "\n",
    "# iv- moyenne co2 réel (pondérée par parts de marché observées)\n",
    "observe = (datap['mean_co2_reel']*datap['VOLUME']).sum() / nb_vehicules\n",
    "print('Moyenne co2 réel (observée): ', observe )\n",
    "\n",
    "# comparaison realite / estimation\n",
    "estimation_sans_malus = ( datap['mean_co2_reel'] * part_de_marche(m_guess)).sum()\n",
    "print('Moyenne co2 réel (estimée sans malus): ',  estimation_sans_malus)\n",
    "\n",
    "# v- moyenne co2 réel (pondérée par parts de marché contrefactuelles sans malus)\n",
    "estimation_avec_malus2024 = ( datap['mean_co2_reel'] * part_de_marche(datap['malus_2024_reel'])).sum()\n",
    "print('Moyenne co2 réel (estimée avec malus 2024): ',  estimation_avec_malus2024)\n",
    "\n",
    "# vi- baisse en pourcent permis grâce au malus en CO2 réel ((observée-contrefactuel)/contrefactuel)\n",
    "print('Baisse en pourcentage des emissions grace au malus en co2 réel: ', ((estimation_sans_malus - estimation_avec_malus2024)/estimation_avec_malus2024)*100)\n"
   ]
  },
  {
   "cell_type": "code",
   "execution_count": null,
   "metadata": {},
   "outputs": [
    {
     "data": {
      "text/plain": [
       "CO2bins\n",
       "[0, 117)          0.0\n",
       "[117, 118)        0.0\n",
       "[118, 119)       50.0\n",
       "[119, 120)       75.0\n",
       "[120, 121)      100.0\n",
       "               ...   \n",
       "[189, 190)    43179.0\n",
       "[190, 191)    45990.0\n",
       "[191, 192)    48901.0\n",
       "[192, 193)    51912.0\n",
       "[193, 420)    60000.0\n",
       "Name: malus_2024_reel, Length: 78, dtype: float64"
      ]
     },
     "execution_count": 98,
     "metadata": {},
     "output_type": "execute_result"
    }
   ],
   "source": [
    "malus_2024_reel"
   ]
  },
  {
   "cell_type": "code",
   "execution_count": null,
   "metadata": {},
   "outputs": [],
   "source": []
  }
 ],
 "metadata": {
  "colab": {
   "provenance": []
  },
  "kernelspec": {
   "display_name": "Python 3 (ipykernel)",
   "language": "python",
   "name": "python3"
  },
  "language_info": {
   "codemirror_mode": {
    "name": "ipython",
    "version": 3
   },
   "file_extension": ".py",
   "mimetype": "text/x-python",
   "name": "python",
   "nbconvert_exporter": "python",
   "pygments_lexer": "ipython3",
   "version": "3.10.6"
  }
 },
 "nbformat": 4,
 "nbformat_minor": 4
}
